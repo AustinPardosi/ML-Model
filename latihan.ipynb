{
 "cells": [
  {
   "cell_type": "markdown",
   "metadata": {},
   "source": [
    "# Latihan Praktikum IF3270 2023/2024"
   ]
  },
  {
   "cell_type": "markdown",
   "metadata": {},
   "source": [
    "Pembuatan model Machine Learning pada umumnya terdiri atas 5 bagian, yaitu:\n",
    "\n",
    "1. Pengumpulan data\n",
    "2. Pemahaman dan pemrosesan data\n",
    "3. Pembuatan model\n",
    "4. Evaluasi dan tuning model\n",
    "5. Model final\n",
    "\n",
    "\n",
    "Pada notebook ini, diharapkan dapat mengimplementasikan sebagian dari tahapan tersebut sebagai latihan."
   ]
  },
  {
   "cell_type": "markdown",
   "metadata": {},
   "source": [
    "Dataset yang digunakan adalah [Stroke Prediction Dataset](https://www.kaggle.com/datasets/fedesoriano/stroke-prediction-dataset). Berikut adalah deskripsi setiap kolom dari dataset (diperoleh dari sumber).\n",
    "\n",
    "1) **id**: unique identifier\n",
    "2) **gender**: \"Male\", \"Female\" or \"Other\"\n",
    "3) **age**: age of the patient\n",
    "4) **hypertension**: 0 if the patient doesn't have hypertension, 1 if the patient has hypertension\n",
    "5) **heart_disease**: 0 if the patient doesn't have any heart diseases, 1 if the patient has a heart disease\n",
    "6) **ever_married**: \"No\" or \"Yes\"\n",
    "7) **work_type**: \"children\", \"Govt_jov\", \"Never_worked\", \"Private\" or \"Self-employed\"\n",
    "8) **Residence_type**: \"Rural\" or \"Urban\"\n",
    "9) **avg_glucose_level**: average glucose level in blood\n",
    "10) **bmi**: body mass index\n",
    "11) **smoking_status**: \"formerly smoked\", \"never smoked\", \"smokes\" or \"Unknown\"*\n",
    "12) **stroke**: 1 if the patient had a stroke or 0 if not\n",
    "*Note: \"Unknown\" in smoking_status means that the information is unavailable for this patient"
   ]
  },
  {
   "cell_type": "code",
   "execution_count": 16,
   "metadata": {},
   "outputs": [],
   "source": [
    "# Import library di sini\n",
    "import pandas as pd"
   ]
  },
  {
   "cell_type": "code",
   "execution_count": 17,
   "metadata": {},
   "outputs": [
    {
     "data": {
      "text/html": [
       "<div>\n",
       "<style scoped>\n",
       "    .dataframe tbody tr th:only-of-type {\n",
       "        vertical-align: middle;\n",
       "    }\n",
       "\n",
       "    .dataframe tbody tr th {\n",
       "        vertical-align: top;\n",
       "    }\n",
       "\n",
       "    .dataframe thead th {\n",
       "        text-align: right;\n",
       "    }\n",
       "</style>\n",
       "<table border=\"1\" class=\"dataframe\">\n",
       "  <thead>\n",
       "    <tr style=\"text-align: right;\">\n",
       "      <th></th>\n",
       "      <th>id</th>\n",
       "      <th>gender</th>\n",
       "      <th>age</th>\n",
       "      <th>hypertension</th>\n",
       "      <th>heart_disease</th>\n",
       "      <th>ever_married</th>\n",
       "      <th>work_type</th>\n",
       "      <th>Residence_type</th>\n",
       "      <th>avg_glucose_level</th>\n",
       "      <th>bmi</th>\n",
       "      <th>smoking_status</th>\n",
       "      <th>stroke</th>\n",
       "    </tr>\n",
       "  </thead>\n",
       "  <tbody>\n",
       "    <tr>\n",
       "      <th>0</th>\n",
       "      <td>9046</td>\n",
       "      <td>Male</td>\n",
       "      <td>67.0</td>\n",
       "      <td>0</td>\n",
       "      <td>1</td>\n",
       "      <td>Yes</td>\n",
       "      <td>Private</td>\n",
       "      <td>Urban</td>\n",
       "      <td>228.69</td>\n",
       "      <td>36.6</td>\n",
       "      <td>formerly smoked</td>\n",
       "      <td>1</td>\n",
       "    </tr>\n",
       "    <tr>\n",
       "      <th>1</th>\n",
       "      <td>51676</td>\n",
       "      <td>Female</td>\n",
       "      <td>61.0</td>\n",
       "      <td>0</td>\n",
       "      <td>0</td>\n",
       "      <td>Yes</td>\n",
       "      <td>Self-employed</td>\n",
       "      <td>Rural</td>\n",
       "      <td>202.21</td>\n",
       "      <td>NaN</td>\n",
       "      <td>never smoked</td>\n",
       "      <td>1</td>\n",
       "    </tr>\n",
       "    <tr>\n",
       "      <th>2</th>\n",
       "      <td>31112</td>\n",
       "      <td>Male</td>\n",
       "      <td>80.0</td>\n",
       "      <td>0</td>\n",
       "      <td>1</td>\n",
       "      <td>Yes</td>\n",
       "      <td>Private</td>\n",
       "      <td>Rural</td>\n",
       "      <td>105.92</td>\n",
       "      <td>32.5</td>\n",
       "      <td>never smoked</td>\n",
       "      <td>1</td>\n",
       "    </tr>\n",
       "    <tr>\n",
       "      <th>3</th>\n",
       "      <td>60182</td>\n",
       "      <td>Female</td>\n",
       "      <td>49.0</td>\n",
       "      <td>0</td>\n",
       "      <td>0</td>\n",
       "      <td>Yes</td>\n",
       "      <td>Private</td>\n",
       "      <td>Urban</td>\n",
       "      <td>171.23</td>\n",
       "      <td>34.4</td>\n",
       "      <td>smokes</td>\n",
       "      <td>1</td>\n",
       "    </tr>\n",
       "    <tr>\n",
       "      <th>4</th>\n",
       "      <td>1665</td>\n",
       "      <td>Female</td>\n",
       "      <td>79.0</td>\n",
       "      <td>1</td>\n",
       "      <td>0</td>\n",
       "      <td>Yes</td>\n",
       "      <td>Self-employed</td>\n",
       "      <td>Rural</td>\n",
       "      <td>174.12</td>\n",
       "      <td>24.0</td>\n",
       "      <td>never smoked</td>\n",
       "      <td>1</td>\n",
       "    </tr>\n",
       "  </tbody>\n",
       "</table>\n",
       "</div>"
      ],
      "text/plain": [
       "      id  gender   age  hypertension  heart_disease ever_married  \\\n",
       "0   9046    Male  67.0             0              1          Yes   \n",
       "1  51676  Female  61.0             0              0          Yes   \n",
       "2  31112    Male  80.0             0              1          Yes   \n",
       "3  60182  Female  49.0             0              0          Yes   \n",
       "4   1665  Female  79.0             1              0          Yes   \n",
       "\n",
       "       work_type Residence_type  avg_glucose_level   bmi   smoking_status  \\\n",
       "0        Private          Urban             228.69  36.6  formerly smoked   \n",
       "1  Self-employed          Rural             202.21   NaN     never smoked   \n",
       "2        Private          Rural             105.92  32.5     never smoked   \n",
       "3        Private          Urban             171.23  34.4           smokes   \n",
       "4  Self-employed          Rural             174.12  24.0     never smoked   \n",
       "\n",
       "   stroke  \n",
       "0       1  \n",
       "1       1  \n",
       "2       1  \n",
       "3       1  \n",
       "4       1  "
      ]
     },
     "execution_count": 17,
     "metadata": {},
     "output_type": "execute_result"
    }
   ],
   "source": [
    "df = pd.read_csv(\"healthcare-dataset-stroke-data.csv\")\n",
    "df.head()"
   ]
  },
  {
   "cell_type": "markdown",
   "metadata": {},
   "source": [
    "## A. Pemahaman dan Pemrosesan Data\n",
    "\n",
    "Tahap ini bertujuan untuk memahami ciri dataset serta setiap fitur yang ada pada dataset. Secara garis besar, hal yang dicari pada tahap ini adalah\n",
    "\n",
    "1. Ukuran data\n",
    "2. Statistik setiap fitur\n",
    "3. Data pencilan (outlier)\n",
    "4. Korelasi\n",
    "5. Penanganan data"
   ]
  },
  {
   "cell_type": "markdown",
   "metadata": {},
   "source": [
    "### A.1. Ukuran Data\n",
    "\n",
    "Tentukan ukuran data secara baris dan kolom"
   ]
  },
  {
   "cell_type": "code",
   "execution_count": 18,
   "metadata": {},
   "outputs": [
    {
     "name": "stdout",
     "output_type": "stream",
     "text": [
      "Ukuran Data\n",
      "Jumlah Baris : 5110\n",
      "Jumlah Kolom : 12\n"
     ]
    }
   ],
   "source": [
    "print(\"Ukuran Data\")\n",
    "print(\"Jumlah Baris :\", df.shape[0])\n",
    "print(\"Jumlah Kolom :\", df.shape[1])"
   ]
  },
  {
   "cell_type": "markdown",
   "metadata": {},
   "source": [
    "### A.2. Statistik setiap fitur\n",
    "\n",
    "Dibantu penggunaan library Pandas, jawab pertanyaan berikut:\n",
    "1. Kolom apa saja yang merupakan fitur kategorikal?\n",
    "2. Kolom apa saja yang merupakan fitur nonkategorikal?\n",
    "\n",
    "- Untuk setiap kolom kategorikal, tentukan jumlah dari masing-masing kategori pada kolom tersebut\n",
    "- Untuk setiap kolom nonkategorikal, cari nilai minimum, maksimum, median, dan rata-ratanya"
   ]
  },
  {
   "cell_type": "code",
   "execution_count": 19,
   "metadata": {},
   "outputs": [
    {
     "name": "stdout",
     "output_type": "stream",
     "text": [
      "Fitur Kategorikal : ['gender', 'ever_married', 'work_type', 'Residence_type', 'smoking_status']\n",
      "Fitur Non-kategorikal : ['id', 'age', 'hypertension', 'heart_disease', 'avg_glucose_level', 'bmi', 'stroke']\n",
      "\n",
      "\n",
      "Statistik Fitur Kategorikal\n",
      "\n",
      "gender\n",
      "Female    2994\n",
      "Male      2115\n",
      "Other        1\n",
      "Name: count, dtype: int64\n",
      "\n",
      "ever_married\n",
      "Yes    3353\n",
      "No     1757\n",
      "Name: count, dtype: int64\n",
      "\n",
      "work_type\n",
      "Private          2925\n",
      "Self-employed     819\n",
      "children          687\n",
      "Govt_job          657\n",
      "Never_worked       22\n",
      "Name: count, dtype: int64\n",
      "\n",
      "Residence_type\n",
      "Urban    2596\n",
      "Rural    2514\n",
      "Name: count, dtype: int64\n",
      "\n",
      "smoking_status\n",
      "never smoked       1892\n",
      "Unknown            1544\n",
      "formerly smoked     885\n",
      "smokes              789\n",
      "Name: count, dtype: int64\n",
      "\n",
      "Statistik Fitur Non-kategorikal\n",
      "id: Min=67, Max=72940, Median=36932.0, Mean=36517.82935420744\n",
      "age: Min=0.08, Max=82.0, Median=45.0, Mean=43.226614481409\n",
      "hypertension: Min=0, Max=1, Median=0.0, Mean=0.0974559686888454\n",
      "heart_disease: Min=0, Max=1, Median=0.0, Mean=0.05401174168297456\n",
      "avg_glucose_level: Min=55.12, Max=271.74, Median=91.88499999999999, Mean=106.1476771037182\n",
      "bmi: Min=10.3, Max=97.6, Median=28.1, Mean=28.893236911794666\n",
      "stroke: Min=0, Max=1, Median=0.0, Mean=0.0487279843444227\n"
     ]
    }
   ],
   "source": [
    "fitur_kategorikal = df.select_dtypes(include=['object']).columns.tolist()\n",
    "fitur_nonkategorikal = df.select_dtypes(exclude=['object']).columns.tolist()\n",
    "\n",
    "print(\"Fitur Kategorikal :\", fitur_kategorikal)\n",
    "print(\"Fitur Non-kategorikal :\", fitur_nonkategorikal)\n",
    "\n",
    "print(\"\\n\\nStatistik Fitur Kategorikal\")\n",
    "for kolom in fitur_kategorikal:\n",
    "    print()\n",
    "    print(df[kolom].value_counts())\n",
    "\n",
    "print(\"\\nStatistik Fitur Non-kategorikal\")\n",
    "for kolom in fitur_nonkategorikal:\n",
    "    print(f\"{kolom}: Min={df[kolom].min()}, Max={df[kolom].max()}, Median={df[kolom].median()}, Mean={df[kolom].mean()}\")\n",
    "\n"
   ]
  },
  {
   "cell_type": "markdown",
   "metadata": {},
   "source": [
    "### A.3. Data Pencilan\n",
    "\n",
    "1. Tentukan jika ada missing value dari setiap fitur\n",
    "2. Tentukan outlier dari setiap fitur"
   ]
  },
  {
   "cell_type": "code",
   "execution_count": 20,
   "metadata": {},
   "outputs": [
    {
     "name": "stdout",
     "output_type": "stream",
     "text": [
      "Missing value per fitur\n",
      "id                     0\n",
      "gender                 0\n",
      "age                    0\n",
      "hypertension           0\n",
      "heart_disease          0\n",
      "ever_married           0\n",
      "work_type              0\n",
      "Residence_type         0\n",
      "avg_glucose_level      0\n",
      "bmi                  201\n",
      "smoking_status         0\n",
      "stroke                 0\n",
      "dtype: int64\n",
      "\n",
      "Outlier di kolom id : 0 baris\n",
      "Outlier di kolom age : 0 baris\n",
      "Outlier di kolom hypertension : 498 baris\n",
      "Outlier di kolom heart_disease : 276 baris\n",
      "Outlier di kolom avg_glucose_level : 627 baris\n",
      "Outlier di kolom bmi : 110 baris\n",
      "Outlier di kolom stroke : 249 baris\n"
     ]
    }
   ],
   "source": [
    "print(\"Missing value per fitur\")\n",
    "print(df.isnull().sum())\n",
    "print()\n",
    "\n",
    "outliers = {}\n",
    "for kolom in fitur_nonkategorikal:\n",
    "    Q1 = df[kolom].quantile(0.25)\n",
    "    Q3 = df[kolom].quantile(0.75)\n",
    "    IQR = Q3 - Q1\n",
    "    lower_bound = Q1 - 1.5 * IQR\n",
    "    upper_bound = Q3 + 1.5 * IQR\n",
    "    outliers[kolom] = df[(df[kolom] < lower_bound) | (df[kolom] > upper_bound)]\n",
    "    print(f\"Outlier di kolom {kolom} : {outliers[kolom].shape[0]} baris\")"
   ]
  },
  {
   "cell_type": "markdown",
   "metadata": {},
   "source": [
    "### A.4. Korelasi\n",
    "\n",
    "Buatlah heatmap dari dataset. Fitur apa yang paling berkorelasi?"
   ]
  },
  {
   "cell_type": "code",
   "execution_count": 21,
   "metadata": {},
   "outputs": [
    {
     "data": {
      "image/png": "[encoded data removed]",
      "text/plain": [
       "<Figure size 1200x800 with 2 Axes>"
      ]
     },
     "metadata": {},
     "output_type": "display_data"
    }
   ],
   "source": [
    "from sklearn.preprocessing import LabelEncoder\n",
    "import seaborn as  sns\n",
    "import matplotlib.pyplot as plt\n",
    "\n",
    "encoder = LabelEncoder()\n",
    "for kolom in fitur_kategorikal:\n",
    "    df[kolom] = encoder.fit_transform(df[kolom].astype(str))\n",
    "\n",
    "correlation_matrix = df.corr()\n",
    "plt.figure(figsize=(12, 8))\n",
    "sns.heatmap(correlation_matrix, annot=True, fmt=\".2f\", cmap=\"coolwarm\")\n",
    "plt.title(\"Heatmap Korelasi Antar Fitur\")\n",
    "plt.show()"
   ]
  },
  {
   "cell_type": "markdown",
   "metadata": {},
   "source": [
    "### A.5. Penanganan Data\n",
    "\n",
    "Pada A.1 hingga A.4, kamu telah melakukan pencarian insight pada data. Apabila diperlukan, lakukan analisis mandiri lebih lanjut.\n",
    "\n",
    "Berikutnya, lakukan pemrosesan sebelum dataset dapat digunakan untuk training model. Kamu dapat melakukan berbagai macam pemrosesan, berikut adalah beberapa contohnya.\n",
    "1) Menangani nilai yang hilang: Buang fitur atau ganti nilai yang hilang dengan strategi tertentu.\n",
    "2) Transformasi fitur kategorikal: Ubah menjadi representasi angka seperti penggunaan one-hot encoding atau label encoding\n",
    "3) Scaling: Dapat menggunakan MinMaxScaler, StandardScaler, atau scaler lainnya.\n",
    "4) Membuang fitur yang sekiranya tidak diperlukan.\n",
    "5) Menambah fitur dari fitur yang sudah ada (feature engineering)."
   ]
  },
  {
   "cell_type": "code",
   "execution_count": 22,
   "metadata": {},
   "outputs": [
    {
     "name": "stdout",
     "output_type": "stream",
     "text": [
      "Pemrosesan data selesai\n"
     ]
    }
   ],
   "source": [
    "from sklearn.preprocessing import MinMaxScaler\n",
    "\n",
    "# Mengganti nilai yang hilang\n",
    "df.fillna(df.mean(), inplace=True)\n",
    "\n",
    "# Transofrmasi fitur kategorikal\n",
    "label_encoder = LabelEncoder()\n",
    "for kolom in fitur_kategorikal:\n",
    "    df[kolom] = label_encoder.fit_transform(df[kolom])\n",
    "\n",
    "# Scaling\n",
    "scaler = MinMaxScaler()\n",
    "df[fitur_nonkategorikal] = scaler.fit_transform(df[fitur_nonkategorikal])\n",
    "\n",
    "print(\"Pemrosesan data selesai\")"
   ]
  },
  {
   "cell_type": "markdown",
   "metadata": {},
   "source": [
    "## B. Design of Experiment\n",
    "Tentukanlah metrik yang akan digunakan pada eksperimen kali ini. Metrik yang dapat lebih dari satu jenis.\n",
    "\n",
    "Metrik utama yang akan digunakan dalam eksperimen adalah F1-score. F1-score adalah hasil rata-rata harmonis dari nilai _precision_ dan _recall_. F1-score mempertimbangkan nilai _precision_ dan _recall_ dan menghasilkan sebuah metrik yang seimbang, sehingga apabila salah satu nilai _precision_ atau _recall_ lebih rendah, salah satu nilai akan menyeimbangkan mettrik lainnya.\n",
    "\n",
    "Nilai F1 yang tinggi melambangkan nilai _precision_ dan _recall_ yang tinggi, dan memberikan hasil yang baik pada permasalahan klasifikasi data yang imbalanced. Akan tetapi, nilai F1 yang rendah sulit memberikan informasi mengenai metrik yang bernilai rendah.\n",
    "\n",
    "Ada beberapa alasan untuk menggunakan F1-score:\n",
    "- F1-score memberikan _measure_ yang lebih baik untuk persoalan dataset yang tidak seimbang. Dalam kasus dataset ini, _instance_ dengan nilai positif lebih banyak dibandingkan _instance_ dengan nilai negatif, sehingga akurasi dapat menjadi metrik yang tidak tepat, sehingga lebih baik menggunakan F1-score yang mempertimbangkan nilai _precision_ dan _recall_\n",
    "- F1-score sudah menggambarkan kemampuan model untuk memprediksi dan mengidentifikasi kelas data positif dan negatif dalam klasifikasi biner\n",
    "- Pada eksperimen ini, akan dilakukan beberapa perbandingan model (_Logistic Regression_, _XGBoost_, hasil hiperparameter, hasil _oversampling / undersampling_, hasil _voting_), dan nilai F1-score cocok digunakan untuk membandingkan kemampuan antar model.\n",
    "\n",
    "\n",
    "Selain F1, metrik lain yang dapat digunakan adalah akurasi, yang menggambarkan seberapa tepat sebuah model dapat melakukan klasifikasi. Nilai akurasi dapat digunakan untuk membandingkan ketepatan klasifikasi dua buah model apabila nilai F1-nya sama."
   ]
  },
  {
   "cell_type": "markdown",
   "metadata": {},
   "source": [
    "### B.1. Dataset Split\n",
    "\n",
    "Lakukan pemisahan antara data training (80%) dan data validasi (20%). Kolom `stroke` adalah target pada dataset ini."
   ]
  },
  {
   "cell_type": "code",
   "execution_count": 23,
   "metadata": {},
   "outputs": [
    {
     "name": "stdout",
     "output_type": "stream",
     "text": [
      "Data training dan validasi berhasil dipisahkan\n"
     ]
    }
   ],
   "source": [
    "from sklearn.model_selection import train_test_split\n",
    "\n",
    "# Fitur dan target\n",
    "X = df.drop('stroke', axis=1)\n",
    "Y = df['stroke']\n",
    "\n",
    "# Memisahkan data menjadi training dan validasi\n",
    "X_train, X_val, Y_train, Y_val = train_test_split(X, Y, test_size=0.2, random_state=42)\n",
    "\n",
    "print(\"Data training dan validasi berhasil dipisahkan\")"
   ]
  },
  {
   "cell_type": "markdown",
   "metadata": {},
   "source": [
    "### B.2. Baseline Training\n",
    "\n",
    "Lakukan training dengan menggunakan `LogisticRegression`. Evaluasi hasilnya dengan confusion matrix dan deskripsikan dengan singkat hal yang terjadi pada model tersebut."
   ]
  },
  {
   "cell_type": "code",
   "execution_count": 24,
   "metadata": {},
   "outputs": [
    {
     "name": "stdout",
     "output_type": "stream",
     "text": [
      "Confussion Matrix\n",
      "[[960   0]\n",
      " [ 62   0]]\n",
      "\n",
      "Classification Report\n",
      "              precision    recall  f1-score   support\n",
      "\n",
      "         0.0       0.94      1.00      0.97       960\n",
      "         1.0       0.00      0.00      0.00        62\n",
      "\n",
      "    accuracy                           0.94      1022\n",
      "   macro avg       0.47      0.50      0.48      1022\n",
      "weighted avg       0.88      0.94      0.91      1022\n",
      "\n"
     ]
    },
    {
     "name": "stderr",
     "output_type": "stream",
     "text": [
      "c:\\Python311\\Lib\\site-packages\\sklearn\\metrics\\_classification.py:1471: UndefinedMetricWarning: Precision and F-score are ill-defined and being set to 0.0 in labels with no predicted samples. Use `zero_division` parameter to control this behavior.\n",
      "  _warn_prf(average, modifier, msg_start, len(result))\n",
      "c:\\Python311\\Lib\\site-packages\\sklearn\\metrics\\_classification.py:1471: UndefinedMetricWarning: Precision and F-score are ill-defined and being set to 0.0 in labels with no predicted samples. Use `zero_division` parameter to control this behavior.\n",
      "  _warn_prf(average, modifier, msg_start, len(result))\n",
      "c:\\Python311\\Lib\\site-packages\\sklearn\\metrics\\_classification.py:1471: UndefinedMetricWarning: Precision and F-score are ill-defined and being set to 0.0 in labels with no predicted samples. Use `zero_division` parameter to control this behavior.\n",
      "  _warn_prf(average, modifier, msg_start, len(result))\n"
     ]
    }
   ],
   "source": [
    "from sklearn.linear_model import LogisticRegression\n",
    "from sklearn.metrics import confusion_matrix, classification_report\n",
    "\n",
    "# Training Logistic Regression\n",
    "model = LogisticRegression()\n",
    "model.fit(X_train, Y_train)\n",
    "\n",
    "# Prediksi dan Evaluasi Model\n",
    "Y_pred = model.predict(X_val)\n",
    "conf_matrix = confusion_matrix(Y_val, Y_pred)\n",
    "print(\"Confussion Matrix\")\n",
    "print(conf_matrix)\n",
    "print(\"\\nClassification Report\")\n",
    "print(classification_report(Y_val, Y_pred))"
   ]
  },
  {
   "cell_type": "markdown",
   "metadata": {},
   "source": [
    "### B.3. Hyperparameter Tuning\n",
    "\n",
    "Lakukan pengaturan hyperparameter pada model Logistic Regression dan training kembali. Apakah hasilnya berubah?"
   ]
  },
  {
   "cell_type": "code",
   "execution_count": 25,
   "metadata": {},
   "outputs": [
    {
     "name": "stdout",
     "output_type": "stream",
     "text": [
      "Best Parameter : {'C': 0.1, 'max_iter': 100}\n",
      "\n",
      "Classification Report After Tuning\n",
      "              precision    recall  f1-score   support\n",
      "\n",
      "         0.0       0.94      1.00      0.97       960\n",
      "         1.0       0.00      0.00      0.00        62\n",
      "\n",
      "    accuracy                           0.94      1022\n",
      "   macro avg       0.47      0.50      0.48      1022\n",
      "weighted avg       0.88      0.94      0.91      1022\n",
      "\n"
     ]
    },
    {
     "name": "stderr",
     "output_type": "stream",
     "text": [
      "c:\\Python311\\Lib\\site-packages\\sklearn\\metrics\\_classification.py:1471: UndefinedMetricWarning: Precision and F-score are ill-defined and being set to 0.0 in labels with no predicted samples. Use `zero_division` parameter to control this behavior.\n",
      "  _warn_prf(average, modifier, msg_start, len(result))\n",
      "c:\\Python311\\Lib\\site-packages\\sklearn\\metrics\\_classification.py:1471: UndefinedMetricWarning: Precision and F-score are ill-defined and being set to 0.0 in labels with no predicted samples. Use `zero_division` parameter to control this behavior.\n",
      "  _warn_prf(average, modifier, msg_start, len(result))\n",
      "c:\\Python311\\Lib\\site-packages\\sklearn\\metrics\\_classification.py:1471: UndefinedMetricWarning: Precision and F-score are ill-defined and being set to 0.0 in labels with no predicted samples. Use `zero_division` parameter to control this behavior.\n",
      "  _warn_prf(average, modifier, msg_start, len(result))\n"
     ]
    }
   ],
   "source": [
    "from sklearn.model_selection import GridSearchCV\n",
    "\n",
    "# Definisi Parameter Grid\n",
    "param_grid = {\n",
    "    'C': [0.1, 1, 10],\n",
    "    'max_iter': [100, 200, 300]\n",
    "}\n",
    "\n",
    "# Grid search untuk tuning hyperparameter\n",
    "grid_search = GridSearchCV(LogisticRegression(), param_grid, cv=5, scoring='f1')\n",
    "grid_search.fit(X_train, Y_train)\n",
    "\n",
    "# Hasil terbaik dan evaluasi\n",
    "print(\"Best Parameter :\", grid_search.best_params_)\n",
    "best_model = grid_search.best_estimator_\n",
    "Y_pred_best = best_model.predict(X_val)\n",
    "print(\"\\nClassification Report After Tuning\")\n",
    "print(classification_report(Y_val, Y_pred_best))\n"
   ]
  },
  {
   "cell_type": "markdown",
   "metadata": {},
   "source": [
    "### B.4. Training Model Lain\n",
    "\n",
    "Kamu dapat melakukan training dengan model-model lain seperti Random Forest, Decision Tree, dan KNN serta atur hyperparameter-nya. Bandingkan hasilnya dengan baseline Logistic Regression.\n",
    "\n",
    "[Referensi](https://scikit-learn.org/stable/supervised_learning.html)"
   ]
  },
  {
   "cell_type": "code",
   "execution_count": 26,
   "metadata": {},
   "outputs": [
    {
     "name": "stdout",
     "output_type": "stream",
     "text": [
      "\n",
      "Random Forest - Classification Report:\n",
      "              precision    recall  f1-score   support\n",
      "\n",
      "         0.0       0.94      1.00      0.97       960\n",
      "         1.0       0.00      0.00      0.00        62\n",
      "\n",
      "    accuracy                           0.94      1022\n",
      "   macro avg       0.47      0.50      0.48      1022\n",
      "weighted avg       0.88      0.94      0.91      1022\n",
      "\n",
      "\n",
      "Decision Tree - Classification Report:\n",
      "              precision    recall  f1-score   support\n",
      "\n",
      "         0.0       0.95      0.96      0.95       960\n",
      "         1.0       0.22      0.18      0.19        62\n",
      "\n",
      "    accuracy                           0.91      1022\n",
      "   macro avg       0.58      0.57      0.57      1022\n",
      "weighted avg       0.90      0.91      0.91      1022\n",
      "\n",
      "\n",
      "KNN - Classification Report:\n",
      "              precision    recall  f1-score   support\n",
      "\n",
      "         0.0       0.94      1.00      0.97       960\n",
      "         1.0       0.40      0.03      0.06        62\n",
      "\n",
      "    accuracy                           0.94      1022\n",
      "   macro avg       0.67      0.51      0.51      1022\n",
      "weighted avg       0.91      0.94      0.91      1022\n",
      "\n"
     ]
    },
    {
     "name": "stderr",
     "output_type": "stream",
     "text": [
      "c:\\Python311\\Lib\\site-packages\\sklearn\\metrics\\_classification.py:1471: UndefinedMetricWarning: Precision and F-score are ill-defined and being set to 0.0 in labels with no predicted samples. Use `zero_division` parameter to control this behavior.\n",
      "  _warn_prf(average, modifier, msg_start, len(result))\n",
      "c:\\Python311\\Lib\\site-packages\\sklearn\\metrics\\_classification.py:1471: UndefinedMetricWarning: Precision and F-score are ill-defined and being set to 0.0 in labels with no predicted samples. Use `zero_division` parameter to control this behavior.\n",
      "  _warn_prf(average, modifier, msg_start, len(result))\n",
      "c:\\Python311\\Lib\\site-packages\\sklearn\\metrics\\_classification.py:1471: UndefinedMetricWarning: Precision and F-score are ill-defined and being set to 0.0 in labels with no predicted samples. Use `zero_division` parameter to control this behavior.\n",
      "  _warn_prf(average, modifier, msg_start, len(result))\n"
     ]
    }
   ],
   "source": [
    "from sklearn.ensemble import RandomForestClassifier\n",
    "from sklearn.tree import DecisionTreeClassifier\n",
    "from sklearn.neighbors import KNeighborsClassifier\n",
    "\n",
    "# Train beberapa model lain\n",
    "models = {\n",
    "    'Random Forest': RandomForestClassifier(),\n",
    "    'Decision Tree': DecisionTreeClassifier(),\n",
    "    'KNN': KNeighborsClassifier()\n",
    "}\n",
    "\n",
    "# Evaluasi setiap model\n",
    "for name, model in models.items():\n",
    "    model.fit(X_train, Y_train)\n",
    "    Y_pred = model.predict(X_val)\n",
    "    print(f\"\\n{name} - Classification Report:\")\n",
    "    print(classification_report(Y_val, Y_pred))\n"
   ]
  },
  {
   "cell_type": "markdown",
   "metadata": {},
   "source": [
    "## C. Improvement\n",
    "\n",
    "Dataset imbalance merupakan kasus yang umum terjadi saat pembuatan model machine learning. Kasus ini dapat diatasi dengan melakukan oversampling pada target minoritas ataupun undersampling pada dataset mayoritas.\n",
    "\n",
    "[Referensi](https://machinelearningmastery.com/smote-oversampling-for-imbalanced-classification/)"
   ]
  },
  {
   "cell_type": "markdown",
   "metadata": {},
   "source": [
    "### C.1. Oversampling\n",
    "\n",
    "Lakukan strategi oversampling pada dataset mayoritas. Training kembali model baseline dan lakukan evaluasi dengan confusion matrix."
   ]
  },
  {
   "cell_type": "code",
   "execution_count": 27,
   "metadata": {},
   "outputs": [
    {
     "name": "stdout",
     "output_type": "stream",
     "text": [
      "Confussion Matrix after SMOTE Oversampling\n",
      "[[720 240]\n",
      " [ 16  46]]\n",
      "\n",
      "Classification Report after SMOTE Oversampling\n",
      "              precision    recall  f1-score   support\n",
      "\n",
      "         0.0       0.98      0.75      0.85       960\n",
      "         1.0       0.16      0.74      0.26        62\n",
      "\n",
      "    accuracy                           0.75      1022\n",
      "   macro avg       0.57      0.75      0.56      1022\n",
      "weighted avg       0.93      0.75      0.81      1022\n",
      "\n"
     ]
    }
   ],
   "source": [
    "from imblearn.over_sampling import SMOTE\n",
    "from sklearn.metrics import confusion_matrix, classification_report\n",
    "\n",
    "# Implementasi Oversampling dengan SMOTE\n",
    "smote = SMOTE()\n",
    "X_resampled, Y_resampled = smote.fit_resample(X_train, Y_train)\n",
    "\n",
    "# Training model Logistic Regression pada data yang sudah di oversampled\n",
    "model_smote = LogisticRegression()\n",
    "model_smote.fit(X_resampled, Y_resampled)\n",
    "\n",
    "# Evaluasi model \n",
    "Y_pred_smote = model_smote.predict(X_val)\n",
    "print(\"Confussion Matrix after SMOTE Oversampling\")\n",
    "print(confusion_matrix(Y_val, Y_pred_smote))\n",
    "print(\"\\nClassification Report after SMOTE Oversampling\")\n",
    "print(classification_report(Y_val, Y_pred_smote))"
   ]
  },
  {
   "cell_type": "markdown",
   "metadata": {},
   "source": [
    "### C.2. Undersampling\n",
    "Lakukan strategi undersampling pada dataset minoritas. Training kembali model dan lakukan evaluasi dengan confusion matrix."
   ]
  },
  {
   "cell_type": "code",
   "execution_count": 28,
   "metadata": {},
   "outputs": [
    {
     "name": "stdout",
     "output_type": "stream",
     "text": [
      "Confusion Matrix after Undersampling:\n",
      "[[696 264]\n",
      " [ 15  47]]\n",
      "\n",
      "Classification Report after Undersampling:\n",
      "              precision    recall  f1-score   support\n",
      "\n",
      "         0.0       0.98      0.72      0.83       960\n",
      "         1.0       0.15      0.76      0.25        62\n",
      "\n",
      "    accuracy                           0.73      1022\n",
      "   macro avg       0.57      0.74      0.54      1022\n",
      "weighted avg       0.93      0.73      0.80      1022\n",
      "\n"
     ]
    }
   ],
   "source": [
    "from imblearn.under_sampling import RandomUnderSampler\n",
    "\n",
    "# Implementasi Undersampling\n",
    "undersampler = RandomUnderSampler()\n",
    "X_resampled_under, Y_resampled_under = undersampler.fit_resample(X_train, Y_train)\n",
    "\n",
    "# Training model Logistic Regression pada data yang sudah di undersample\n",
    "model_under = LogisticRegression()\n",
    "model_under.fit(X_resampled_under, Y_resampled_under)\n",
    "\n",
    "# Evaluasi model\n",
    "Y_pred_under = model_under.predict(X_val)\n",
    "print(\"Confusion Matrix after Undersampling:\")\n",
    "print(confusion_matrix(Y_val, Y_pred_under))\n",
    "print(\"\\nClassification Report after Undersampling:\")\n",
    "print(classification_report(Y_val, Y_pred_under))"
   ]
  },
  {
   "cell_type": "markdown",
   "metadata": {},
   "source": [
    "### C.3. Model Ensembling\n",
    "\n",
    "Sebagai tambahan dari strategi oversampling dan undersampling, kinerja prediksi dapat ditingkatkan dengan membuat beberapa model berbeda menjadi satu model utuh. Contohnya adalah penggabungan Logistic Regression dan Random Forest.\n",
    "\n",
    "Dari scikit-learn, terdapat dua jenis ensembling paling umum yaitu Voting Classifier dan Stacking Classifier. Gunakan kedua strategi ini pada jenis-jenis model yang berbeda, lakukan training pada oversampled atau undersampled data dan bandingkan hasilnya dengan baseline Logistic Regression.\n",
    "\n",
    "[Referensi](https://scikit-learn.org/stable/modules/classes.html#module-sklearn.ensemble)"
   ]
  },
  {
   "cell_type": "code",
   "execution_count": 29,
   "metadata": {},
   "outputs": [
    {
     "name": "stdout",
     "output_type": "stream",
     "text": [
      "Confussion Matrix for Voting Classifier\n",
      "[[811 149]\n",
      " [ 28  34]]\n",
      "\n",
      "Classification Report for Voting Classifier\n",
      "              precision    recall  f1-score   support\n",
      "\n",
      "         0.0       0.97      0.84      0.90       960\n",
      "         1.0       0.19      0.55      0.28        62\n",
      "\n",
      "    accuracy                           0.83      1022\n",
      "   macro avg       0.58      0.70      0.59      1022\n",
      "weighted avg       0.92      0.83      0.86      1022\n",
      "\n",
      "Confussion Matrix for Stacking Classifier\n",
      "[[914  46]\n",
      " [ 55   7]]\n",
      "\n",
      "Confussion Matrix for Stacking Classifier\n",
      "              precision    recall  f1-score   support\n",
      "\n",
      "         0.0       0.94      0.95      0.95       960\n",
      "         1.0       0.13      0.11      0.12        62\n",
      "\n",
      "    accuracy                           0.90      1022\n",
      "   macro avg       0.54      0.53      0.53      1022\n",
      "weighted avg       0.89      0.90      0.90      1022\n",
      "\n"
     ]
    }
   ],
   "source": [
    "from sklearn.ensemble import RandomForestClassifier, VotingClassifier, StackingClassifier\n",
    "\n",
    "# Voting Classifier\n",
    "voting_clf = VotingClassifier(estimators=[\n",
    "    ('lr', LogisticRegression()),\n",
    "    ('rf', RandomForestClassifier())\n",
    "], voting='soft')\n",
    "voting_clf.fit(X_resampled, Y_resampled)\n",
    "\n",
    "# Evaluasi Voting Classfier\n",
    "Y_pred_voting = voting_clf.predict(X_val)\n",
    "print(\"Confussion Matrix for Voting Classifier\")\n",
    "print(confusion_matrix(Y_val, Y_pred_voting))\n",
    "print(\"\\nClassification Report for Voting Classifier\")\n",
    "print(classification_report(Y_val, Y_pred_voting))\n",
    "\n",
    "# Stacking Classifier\n",
    "stacking_clf = StackingClassifier(estimators=[\n",
    "    ('lr', LogisticRegression()),\n",
    "    ('rf', RandomForestClassifier())\n",
    "], final_estimator=LogisticRegression())\n",
    "stacking_clf.fit(X_resampled, Y_resampled) # Training pada data oversampled\n",
    "\n",
    "# Evaluasi Stacking Classifier\n",
    "Y_pred_stacking = stacking_clf.predict(X_val)\n",
    "print(\"Confussion Matrix for Stacking Classifier\")\n",
    "print(confusion_matrix(Y_val, Y_pred_stacking))\n",
    "print(\"\\nConfussion Matrix for Stacking Classifier\")\n",
    "print(classification_report(Y_val, Y_pred_stacking))\n",
    "\n",
    "\n"
   ]
  },
  {
   "cell_type": "markdown",
   "metadata": {},
   "source": [
    "## D. Model Final\n",
    "Tentukan model yang memiliki kinerja terbaik serta berikan alasannya."
   ]
  },
  {
   "cell_type": "code",
   "execution_count": 30,
   "metadata": {},
   "outputs": [
    {
     "name": "stdout",
     "output_type": "stream",
     "text": [
      "F1-Scores of Different Models\n",
      "Baseline: 0.0597\n",
      "SMOTE: 0.2644\n",
      "Undersampling: 0.2520\n",
      "Voting Classifier: 0.2776\n",
      "Stacking Classifier: 0.1217\n",
      "\n",
      "Model with the best F1-score: Voting Classifier (0.2776)\n",
      "\n",
      "Alasan pemilihan model\n",
      "Model 'Voting Classifier' dipilih sebagai model terbaik karena memiliki F1-score tertinggi di antara semua model yang diuji.\n",
      "Ini menunjukkan bahwa model ini memiliki keseimbangan terbaik antara precision dan recall, yang sangat penting dalam menangani dataset yang tidak seimbang.\n"
     ]
    }
   ],
   "source": [
    "from sklearn.metrics import f1_score\n",
    "\n",
    "# Evaluasi F1-score dari semua model\n",
    "f1_score = {\n",
    "    'Baseline': f1_score(Y_val, model.predict(X_val)),\n",
    "    'SMOTE': f1_score(Y_val, model_smote.predict(X_val)),\n",
    "    'Undersampling': f1_score(Y_val, model_under.predict(X_val)),\n",
    "    'Voting Classifier': f1_score(Y_val, voting_clf.predict(X_val)),\n",
    "    'Stacking Classifier': f1_score(Y_val, stacking_clf.predict(X_val))\n",
    "}\n",
    "\n",
    "# Cetak F1-score dari semua model\n",
    "print(\"F1-Scores of Different Models\")\n",
    "for model_name, f1 in f1_score.items():\n",
    "    print(f\"{model_name}: {f1:.4f}\")\n",
    "\n",
    "# Menentukan model dengan F1-score tertinggi\n",
    "best_model_name = max(f1_score, key=f1_score.get)\n",
    "best_f1_score = f1_score[best_model_name]\n",
    "print(f\"\\nModel with the best F1-score: {best_model_name} ({best_f1_score:.4f})\")\n",
    "\n",
    "# Alasan pemilihan \n",
    "print(\"\\nAlasan pemilihan model\")\n",
    "print(f\"Model '{best_model_name}' dipilih sebagai model terbaik karena memiliki F1-score tertinggi di antara semua model yang diuji.\")\n",
    "print(\"Ini menunjukkan bahwa model ini memiliki keseimbangan terbaik antara precision dan recall, yang sangat penting dalam menangani dataset yang tidak seimbang.\")"
   ]
  }
 ],
 "metadata": {
  "kernelspec": {
   "display_name": "Python 3 (ipykernel)",
   "language": "python",
   "name": "python3"
  },
  "language_info": {
   "codemirror_mode": {
    "name": "ipython",
    "version": 3
   },
   "file_extension": ".py",
   "mimetype": "text/x-python",
   "name": "python",
   "nbconvert_exporter": "python",
   "pygments_lexer": "ipython3",
   "version": "3.11.4"
  }
 },
 "nbformat": 4,
 "nbformat_minor": 2
}
