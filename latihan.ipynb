{
 "cells": [
  {
   "cell_type": "markdown",
   "metadata": {},
   "source": [
    "# Latihan Praktikum IF3270 2023/2024"
   ]
  },
  {
   "cell_type": "markdown",
   "metadata": {},
   "source": [
    "Pembuatan model Machine Learning pada umumnya terdiri atas 5 bagian, yaitu:\n",
    "\n",
    "1. Pengumpulan data\n",
    "2. Pemahaman dan pemrosesan data\n",
    "3. Pembuatan model\n",
    "4. Evaluasi dan tuning model\n",
    "5. Model final\n",
    "\n",
    "\n",
    "Pada notebook ini, diharapkan dapat mengimplementasikan sebagian dari tahapan tersebut sebagai latihan."
   ]
  },
  {
   "cell_type": "markdown",
   "metadata": {},
   "source": [
    "Dataset yang digunakan adalah [Stroke Prediction Dataset](https://www.kaggle.com/datasets/fedesoriano/stroke-prediction-dataset). Berikut adalah deskripsi setiap kolom dari dataset (diperoleh dari sumber).\n",
    "\n",
    "1) **id**: unique identifier\n",
    "2) **gender**: \"Male\", \"Female\" or \"Other\"\n",
    "3) **age**: age of the patient\n",
    "4) **hypertension**: 0 if the patient doesn't have hypertension, 1 if the patient has hypertension\n",
    "5) **heart_disease**: 0 if the patient doesn't have any heart diseases, 1 if the patient has a heart disease\n",
    "6) **ever_married**: \"No\" or \"Yes\"\n",
    "7) **work_type**: \"children\", \"Govt_jov\", \"Never_worked\", \"Private\" or \"Self-employed\"\n",
    "8) **Residence_type**: \"Rural\" or \"Urban\"\n",
    "9) **avg_glucose_level**: average glucose level in blood\n",
    "10) **bmi**: body mass index\n",
    "11) **smoking_status**: \"formerly smoked\", \"never smoked\", \"smokes\" or \"Unknown\"*\n",
    "12) **stroke**: 1 if the patient had a stroke or 0 if not\n",
    "*Note: \"Unknown\" in smoking_status means that the information is unavailable for this patient"
   ]
  },
  {
   "cell_type": "code",
   "execution_count": 755,
   "metadata": {},
   "outputs": [],
   "source": [
    "# Import library di sini\n",
    "import pandas as pd\n",
    "import seaborn as sns\n",
    "import matplotlib.pyplot as plt\n",
    "\n",
    "from sklearn.preprocessing import LabelEncoder, MinMaxScaler\n",
    "from sklearn.model_selection import train_test_split, GridSearchCV\n",
    "from sklearn.linear_model import LogisticRegression\n",
    "from sklearn.metrics import confusion_matrix, classification_report, f1_score, accuracy_score\n",
    "from imblearn.over_sampling import SMOTE, RandomOverSampler\n",
    "from imblearn.under_sampling import RandomUnderSampler"
   ]
  },
  {
   "cell_type": "code",
   "execution_count": 756,
   "metadata": {},
   "outputs": [
    {
     "data": {
      "text/html": [
       "<div>\n",
       "<style scoped>\n",
       "    .dataframe tbody tr th:only-of-type {\n",
       "        vertical-align: middle;\n",
       "    }\n",
       "\n",
       "    .dataframe tbody tr th {\n",
       "        vertical-align: top;\n",
       "    }\n",
       "\n",
       "    .dataframe thead th {\n",
       "        text-align: right;\n",
       "    }\n",
       "</style>\n",
       "<table border=\"1\" class=\"dataframe\">\n",
       "  <thead>\n",
       "    <tr style=\"text-align: right;\">\n",
       "      <th></th>\n",
       "      <th>id</th>\n",
       "      <th>gender</th>\n",
       "      <th>age</th>\n",
       "      <th>hypertension</th>\n",
       "      <th>heart_disease</th>\n",
       "      <th>ever_married</th>\n",
       "      <th>work_type</th>\n",
       "      <th>Residence_type</th>\n",
       "      <th>avg_glucose_level</th>\n",
       "      <th>bmi</th>\n",
       "      <th>smoking_status</th>\n",
       "      <th>stroke</th>\n",
       "    </tr>\n",
       "  </thead>\n",
       "  <tbody>\n",
       "    <tr>\n",
       "      <th>0</th>\n",
       "      <td>9046</td>\n",
       "      <td>Male</td>\n",
       "      <td>67.0</td>\n",
       "      <td>0</td>\n",
       "      <td>1</td>\n",
       "      <td>Yes</td>\n",
       "      <td>Private</td>\n",
       "      <td>Urban</td>\n",
       "      <td>228.69</td>\n",
       "      <td>36.6</td>\n",
       "      <td>formerly smoked</td>\n",
       "      <td>1</td>\n",
       "    </tr>\n",
       "    <tr>\n",
       "      <th>1</th>\n",
       "      <td>51676</td>\n",
       "      <td>Female</td>\n",
       "      <td>61.0</td>\n",
       "      <td>0</td>\n",
       "      <td>0</td>\n",
       "      <td>Yes</td>\n",
       "      <td>Self-employed</td>\n",
       "      <td>Rural</td>\n",
       "      <td>202.21</td>\n",
       "      <td>NaN</td>\n",
       "      <td>never smoked</td>\n",
       "      <td>1</td>\n",
       "    </tr>\n",
       "    <tr>\n",
       "      <th>2</th>\n",
       "      <td>31112</td>\n",
       "      <td>Male</td>\n",
       "      <td>80.0</td>\n",
       "      <td>0</td>\n",
       "      <td>1</td>\n",
       "      <td>Yes</td>\n",
       "      <td>Private</td>\n",
       "      <td>Rural</td>\n",
       "      <td>105.92</td>\n",
       "      <td>32.5</td>\n",
       "      <td>never smoked</td>\n",
       "      <td>1</td>\n",
       "    </tr>\n",
       "    <tr>\n",
       "      <th>3</th>\n",
       "      <td>60182</td>\n",
       "      <td>Female</td>\n",
       "      <td>49.0</td>\n",
       "      <td>0</td>\n",
       "      <td>0</td>\n",
       "      <td>Yes</td>\n",
       "      <td>Private</td>\n",
       "      <td>Urban</td>\n",
       "      <td>171.23</td>\n",
       "      <td>34.4</td>\n",
       "      <td>smokes</td>\n",
       "      <td>1</td>\n",
       "    </tr>\n",
       "    <tr>\n",
       "      <th>4</th>\n",
       "      <td>1665</td>\n",
       "      <td>Female</td>\n",
       "      <td>79.0</td>\n",
       "      <td>1</td>\n",
       "      <td>0</td>\n",
       "      <td>Yes</td>\n",
       "      <td>Self-employed</td>\n",
       "      <td>Rural</td>\n",
       "      <td>174.12</td>\n",
       "      <td>24.0</td>\n",
       "      <td>never smoked</td>\n",
       "      <td>1</td>\n",
       "    </tr>\n",
       "    <tr>\n",
       "      <th>...</th>\n",
       "      <td>...</td>\n",
       "      <td>...</td>\n",
       "      <td>...</td>\n",
       "      <td>...</td>\n",
       "      <td>...</td>\n",
       "      <td>...</td>\n",
       "      <td>...</td>\n",
       "      <td>...</td>\n",
       "      <td>...</td>\n",
       "      <td>...</td>\n",
       "      <td>...</td>\n",
       "      <td>...</td>\n",
       "    </tr>\n",
       "    <tr>\n",
       "      <th>5105</th>\n",
       "      <td>18234</td>\n",
       "      <td>Female</td>\n",
       "      <td>80.0</td>\n",
       "      <td>1</td>\n",
       "      <td>0</td>\n",
       "      <td>Yes</td>\n",
       "      <td>Private</td>\n",
       "      <td>Urban</td>\n",
       "      <td>83.75</td>\n",
       "      <td>NaN</td>\n",
       "      <td>never smoked</td>\n",
       "      <td>0</td>\n",
       "    </tr>\n",
       "    <tr>\n",
       "      <th>5106</th>\n",
       "      <td>44873</td>\n",
       "      <td>Female</td>\n",
       "      <td>81.0</td>\n",
       "      <td>0</td>\n",
       "      <td>0</td>\n",
       "      <td>Yes</td>\n",
       "      <td>Self-employed</td>\n",
       "      <td>Urban</td>\n",
       "      <td>125.20</td>\n",
       "      <td>40.0</td>\n",
       "      <td>never smoked</td>\n",
       "      <td>0</td>\n",
       "    </tr>\n",
       "    <tr>\n",
       "      <th>5107</th>\n",
       "      <td>19723</td>\n",
       "      <td>Female</td>\n",
       "      <td>35.0</td>\n",
       "      <td>0</td>\n",
       "      <td>0</td>\n",
       "      <td>Yes</td>\n",
       "      <td>Self-employed</td>\n",
       "      <td>Rural</td>\n",
       "      <td>82.99</td>\n",
       "      <td>30.6</td>\n",
       "      <td>never smoked</td>\n",
       "      <td>0</td>\n",
       "    </tr>\n",
       "    <tr>\n",
       "      <th>5108</th>\n",
       "      <td>37544</td>\n",
       "      <td>Male</td>\n",
       "      <td>51.0</td>\n",
       "      <td>0</td>\n",
       "      <td>0</td>\n",
       "      <td>Yes</td>\n",
       "      <td>Private</td>\n",
       "      <td>Rural</td>\n",
       "      <td>166.29</td>\n",
       "      <td>25.6</td>\n",
       "      <td>formerly smoked</td>\n",
       "      <td>0</td>\n",
       "    </tr>\n",
       "    <tr>\n",
       "      <th>5109</th>\n",
       "      <td>44679</td>\n",
       "      <td>Female</td>\n",
       "      <td>44.0</td>\n",
       "      <td>0</td>\n",
       "      <td>0</td>\n",
       "      <td>Yes</td>\n",
       "      <td>Govt_job</td>\n",
       "      <td>Urban</td>\n",
       "      <td>85.28</td>\n",
       "      <td>26.2</td>\n",
       "      <td>Unknown</td>\n",
       "      <td>0</td>\n",
       "    </tr>\n",
       "  </tbody>\n",
       "</table>\n",
       "<p>5110 rows × 12 columns</p>\n",
       "</div>"
      ],
      "text/plain": [
       "         id  gender   age  hypertension  heart_disease ever_married  \\\n",
       "0      9046    Male  67.0             0              1          Yes   \n",
       "1     51676  Female  61.0             0              0          Yes   \n",
       "2     31112    Male  80.0             0              1          Yes   \n",
       "3     60182  Female  49.0             0              0          Yes   \n",
       "4      1665  Female  79.0             1              0          Yes   \n",
       "...     ...     ...   ...           ...            ...          ...   \n",
       "5105  18234  Female  80.0             1              0          Yes   \n",
       "5106  44873  Female  81.0             0              0          Yes   \n",
       "5107  19723  Female  35.0             0              0          Yes   \n",
       "5108  37544    Male  51.0             0              0          Yes   \n",
       "5109  44679  Female  44.0             0              0          Yes   \n",
       "\n",
       "          work_type Residence_type  avg_glucose_level   bmi   smoking_status  \\\n",
       "0           Private          Urban             228.69  36.6  formerly smoked   \n",
       "1     Self-employed          Rural             202.21   NaN     never smoked   \n",
       "2           Private          Rural             105.92  32.5     never smoked   \n",
       "3           Private          Urban             171.23  34.4           smokes   \n",
       "4     Self-employed          Rural             174.12  24.0     never smoked   \n",
       "...             ...            ...                ...   ...              ...   \n",
       "5105        Private          Urban              83.75   NaN     never smoked   \n",
       "5106  Self-employed          Urban             125.20  40.0     never smoked   \n",
       "5107  Self-employed          Rural              82.99  30.6     never smoked   \n",
       "5108        Private          Rural             166.29  25.6  formerly smoked   \n",
       "5109       Govt_job          Urban              85.28  26.2          Unknown   \n",
       "\n",
       "      stroke  \n",
       "0          1  \n",
       "1          1  \n",
       "2          1  \n",
       "3          1  \n",
       "4          1  \n",
       "...      ...  \n",
       "5105       0  \n",
       "5106       0  \n",
       "5107       0  \n",
       "5108       0  \n",
       "5109       0  \n",
       "\n",
       "[5110 rows x 12 columns]"
      ]
     },
     "execution_count": 756,
     "metadata": {},
     "output_type": "execute_result"
    }
   ],
   "source": [
    "df = pd.read_csv(\"healthcare-dataset-stroke-data.csv\")\n",
    "df"
   ]
  },
  {
   "cell_type": "markdown",
   "metadata": {},
   "source": [
    "## A. Pemahaman dan Pemrosesan Data\n",
    "\n",
    "Tahap ini bertujuan untuk memahami ciri dataset serta setiap fitur yang ada pada dataset. Secara garis besar, hal yang dicari pada tahap ini adalah\n",
    "\n",
    "1. Ukuran data\n",
    "2. Statistik setiap fitur\n",
    "3. Data pencilan (outlier)\n",
    "4. Korelasi\n",
    "5. Penanganan data"
   ]
  },
  {
   "cell_type": "markdown",
   "metadata": {},
   "source": [
    "### A.1. Ukuran Data\n",
    "\n",
    "Tentukan ukuran data secara baris dan kolom"
   ]
  },
  {
   "cell_type": "code",
   "execution_count": 757,
   "metadata": {},
   "outputs": [
    {
     "name": "stdout",
     "output_type": "stream",
     "text": [
      "<class 'pandas.core.frame.DataFrame'>\n",
      "RangeIndex: 5110 entries, 0 to 5109\n",
      "Data columns (total 12 columns):\n",
      " #   Column             Non-Null Count  Dtype  \n",
      "---  ------             --------------  -----  \n",
      " 0   id                 5110 non-null   int64  \n",
      " 1   gender             5110 non-null   object \n",
      " 2   age                5110 non-null   float64\n",
      " 3   hypertension       5110 non-null   int64  \n",
      " 4   heart_disease      5110 non-null   int64  \n",
      " 5   ever_married       5110 non-null   object \n",
      " 6   work_type          5110 non-null   object \n",
      " 7   Residence_type     5110 non-null   object \n",
      " 8   avg_glucose_level  5110 non-null   float64\n",
      " 9   bmi                4909 non-null   float64\n",
      " 10  smoking_status     5110 non-null   object \n",
      " 11  stroke             5110 non-null   int64  \n",
      "dtypes: float64(3), int64(4), object(5)\n",
      "memory usage: 479.2+ KB\n"
     ]
    }
   ],
   "source": [
    "# Data size and each feature data type\n",
    "df.info()"
   ]
  },
  {
   "cell_type": "markdown",
   "metadata": {},
   "source": [
    "### A.2. Statistik setiap fitur\n",
    "\n",
    "Dibantu penggunaan library Pandas, jawab pertanyaan berikut:\n",
    "1. Kolom apa saja yang merupakan fitur kategorikal?\n",
    "2. Kolom apa saja yang merupakan fitur nonkategorikal?\n",
    "\n",
    "- Untuk setiap kolom kategorikal, tentukan jumlah dari masing-masing kategori pada kolom tersebut\n",
    "- Untuk setiap kolom nonkategorikal, cari nilai minimum, maksimum, median, dan rata-ratanya"
   ]
  },
  {
   "cell_type": "code",
   "execution_count": 758,
   "metadata": {},
   "outputs": [
    {
     "name": "stdout",
     "output_type": "stream",
     "text": [
      "Categorical features: ['id', 'gender', 'hypertension', 'heart_disease', 'ever_married', 'work_type', 'Residence_type', 'smoking_status', 'stroke']\n",
      "\n",
      "id\n",
      "9046     1\n",
      "22194    1\n",
      "15104    1\n",
      "28315    1\n",
      "56996    1\n",
      "        ..\n",
      "897      1\n",
      "4789     1\n",
      "5686     1\n",
      "37451    1\n",
      "44679    1\n",
      "Name: count, Length: 5110, dtype: int64\n",
      "\n",
      "gender\n",
      "Female    2994\n",
      "Male      2115\n",
      "Other        1\n",
      "Name: count, dtype: int64\n",
      "\n",
      "hypertension\n",
      "0    4612\n",
      "1     498\n",
      "Name: count, dtype: int64\n",
      "\n",
      "heart_disease\n",
      "0    4834\n",
      "1     276\n",
      "Name: count, dtype: int64\n",
      "\n",
      "ever_married\n",
      "Yes    3353\n",
      "No     1757\n",
      "Name: count, dtype: int64\n",
      "\n",
      "work_type\n",
      "Private          2925\n",
      "Self-employed     819\n",
      "children          687\n",
      "Govt_job          657\n",
      "Never_worked       22\n",
      "Name: count, dtype: int64\n",
      "\n",
      "Residence_type\n",
      "Urban    2596\n",
      "Rural    2514\n",
      "Name: count, dtype: int64\n",
      "\n",
      "smoking_status\n",
      "never smoked       1892\n",
      "Unknown            1544\n",
      "formerly smoked     885\n",
      "smokes              789\n",
      "Name: count, dtype: int64\n",
      "\n",
      "stroke\n",
      "0    4861\n",
      "1     249\n",
      "Name: count, dtype: int64\n",
      "\n"
     ]
    }
   ],
   "source": [
    "# Categorical features\n",
    "categorical_feature_names = df.select_dtypes(include=['object', 'int64']).columns\n",
    "\n",
    "print(f\"Categorical features: {categorical_feature_names.to_list()}\", end='\\n\\n')\n",
    "\n",
    "for feature in categorical_feature_names:\n",
    "    column_data_detail = df[feature].value_counts()\n",
    "    print(column_data_detail, end='\\n\\n')"
   ]
  },
  {
   "cell_type": "code",
   "execution_count": 759,
   "metadata": {},
   "outputs": [
    {
     "name": "stdout",
     "output_type": "stream",
     "text": [
      "Non-categorical features: ['age', 'avg_glucose_level', 'bmi']\n",
      "\n",
      "age\n",
      "Minimum: 0.08\n",
      "Maximum: 82.0\n",
      "Median : 45.0\n",
      "Mean   : 43.226614481409\n",
      "\n",
      "avg_glucose_level\n",
      "Minimum: 55.12\n",
      "Maximum: 271.74\n",
      "Median : 91.88499999999999\n",
      "Mean   : 106.1476771037182\n",
      "\n",
      "bmi\n",
      "Minimum: 10.3\n",
      "Maximum: 97.6\n",
      "Median : 28.1\n",
      "Mean   : 28.893236911794666\n",
      "\n"
     ]
    }
   ],
   "source": [
    "# Non-categorical features\n",
    "non_categorical_feature_names = df.select_dtypes(exclude=['object', 'int64']).columns\n",
    "\n",
    "print(f\"Non-categorical features: {non_categorical_feature_names.to_list()}\", end='\\n\\n')\n",
    "\n",
    "for feature in non_categorical_feature_names:\n",
    "    column_data = df[feature]\n",
    "\n",
    "    print(feature)\n",
    "    print(f\"Minimum: {column_data.min()}\")\n",
    "    print(f\"Maximum: {column_data.max()}\")\n",
    "    print(f\"Median : {column_data.median()}\")\n",
    "    print(f\"Mean   : {column_data.mean()}\", end='\\n\\n')"
   ]
  },
  {
   "cell_type": "markdown",
   "metadata": {},
   "source": [
    "### A.3. Data Pencilan\n",
    "\n",
    "1. Tentukan jika ada missing value dari setiap fitur\n",
    "2. Tentukan outlier dari setiap fitur"
   ]
  },
  {
   "cell_type": "code",
   "execution_count": 760,
   "metadata": {},
   "outputs": [
    {
     "name": "stdout",
     "output_type": "stream",
     "text": [
      "Missing value for each feature:\n",
      "bmi                  201\n",
      "id                     0\n",
      "gender                 0\n",
      "age                    0\n",
      "hypertension           0\n",
      "heart_disease          0\n",
      "ever_married           0\n",
      "work_type              0\n",
      "Residence_type         0\n",
      "avg_glucose_level      0\n",
      "smoking_status         0\n",
      "stroke                 0\n",
      "dtype: int64\n"
     ]
    }
   ],
   "source": [
    "# Each feature missing value\n",
    "print(\"Missing value for each feature:\")\n",
    "print(df.isnull().sum().sort_values(ascending=False))"
   ]
  },
  {
   "cell_type": "code",
   "execution_count": 761,
   "metadata": {},
   "outputs": [
    {
     "name": "stdout",
     "output_type": "stream",
     "text": [
      "Feature 'age': 0 outliers\n",
      "\n",
      "Feature 'avg_glucose_level': 627 outliers\n",
      "Values: {219.82, 223.78, 203.27, 221.8, 227.74, 212.19, 202.06, 226.28, 216.4, 187.99, 206.52, 234.45, 217.4, 230.74, 215.69, 169.67, 170.05, 171.23, 170.95, 173.43, 174.12, 175.29, 169.97, 169.49, 178.29, 179.12, 180.93, 180.63, 182.99, 182.2, 184.4, 185.17, 186.21, 185.49, 180.76, 189.84, 190.32, 191.61, 191.82, 193.94, 194.99, 195.23, 196.92, 197.54, 196.71, 190.14, 200.59, 194.37, 202.05, 203.81, 204.86, 204.63, 204.5, 204.57, 204.17, 205.84, 205.23, 205.26, 205.5, 204.05, 206.72, 206.25, 207.58, 208.05, 209.58, 210.95, 211.06, 212.01, 213.37, 214.45, 215.6, 216.58, 217.3, 218.46, 219.91, 220.49, 222.21, 222.29, 223.36, 224.71, 225.47, 226.7, 227.1, 237.58, 229.92, 239.82, 231.19, 237.17, 242.84, 234.58, 244.28, 236.84, 246.53, 239.64, 239.07, 240.09, 243.58, 242.52, 243.53, 247.51, 249.31, 250.89, 252.72, 251.6, 250.2, 254.6, 254.63, 259.63, 253.16, 263.32, 255.17, 260.85, 266.59, 267.76, 267.61, 263.56, 261.67, 271.74, 267.6, 232.78, 214.73, 207.6, 200.68, 208.85, 196.26, 213.92, 208.39, 193.8, 189.88, 215.81, 227.94, 202.51, 205.97, 190.67, 203.01, 231.15, 198.3, 226.73, 193.88, 229.94, 219.81, 222.52, 227.98, 227.23, 200.8, 218.6, 218.1, 221.06, 198.84, 216.64, 229.73, 213.43, 219.39, 214.43, 199.88, 199.38, 220.64, 199.42, 202.38, 223.64, 216.19, 214.51, 194.75, 207.84, 202.67, 231.31, 196.5, 169.43, 227.89, 169.74, 170.22, 170.76, 170.93, 170.88, 172.33, 172.27, 172.86, 173.96, 173.14, 173.9, 173.97, 174.43, 200.46, 174.54, 174.37, 213.8, 175.74, 175.92, 176.48, 176.25, 176.71, 176.78, 176.38, 177.91, 176.42, 177.56, 176.34, 178.76, 178.33, 178.89, 234.06, 201.96, 217.94, 179.67, 179.14, 179.38, 180.8, 180.45, 181.23, 181.3, 182.86, 182.9, 182.22, 182.52, 183.45, 183.34, 183.1, 183.0, 183.87, 184.15, 184.25, 220.26, 183.43, 185.71, 185.31, 185.0, 185.28, 185.27, 186.17, 186.45, 186.32, 186.95, 186.4, 187.87, 187.52, 187.88, 187.22, 186.54, 188.11, 188.69, 188.13, 200.25, 187.47, 189.57, 189.49, 189.45, 189.44, 198.79, 190.7, 190.4, 190.13, 190.92, 190.89, 191.47, 191.79, 191.48, 191.66, 191.33, 191.78, 192.37, 192.16, 192.39, 192.47, 192.5, 193.83, 193.22, 193.81, 193.87, 193.45, 194.62, 194.04, 194.98, 194.53, 217.55, 195.71, 195.03, 195.16, 195.04, 195.25, 196.01, 196.36, 196.2, 196.25, 196.33, 197.69, 197.28, 197.1, 197.79, 197.58, 197.09, 198.21, 198.69, 198.02, 198.36, 199.2, 198.24, 199.86, 199.84, 199.96, 199.14, 199.18, 200.62, 200.28, 200.49, 200.16, 201.76, 201.25, 201.01, 201.07, 202.21, 202.66, 202.57, 201.45, 201.38, 203.87, 203.04, 203.44, 203.16, 202.55, 203.57, 204.98, 204.77, 204.92, 203.76, 205.33, 205.35, 205.77, 205.0, 205.01, 206.4, 206.33, 206.98, 206.09, 206.59, 207.32, 207.64, 207.45, 207.79, 207.28, 208.17, 208.06, 208.78, 208.65, 208.3, 209.9, 209.26, 209.06, 209.86, 209.5, 210.78, 210.48, 210.94, 210.96, 210.0, 211.03, 211.49, 211.88, 211.35, 210.23, 212.97, 211.78, 212.08, 211.12, 212.02, 213.11, 213.54, 213.87, 213.03, 213.22, 214.05, 214.77, 214.09, 214.42, 213.38, 215.64, 215.9, 215.94, 198.33, 215.72, 216.7, 216.88, 216.92, 216.9, 216.94, 217.71, 217.39, 217.66, 217.11, 217.75, 218.65, 218.54, 217.08, 217.84, 217.0, 219.53, 219.97, 219.5, 219.96, 219.73, 220.52, 220.36, 219.84, 219.72, 199.83, 221.89, 221.29, 221.58, 221.79, 220.47, 222.6, 222.85, 222.46, 221.43, 222.66, 223.68, 223.35, 223.83, 223.58, 223.9, 215.92, 224.63, 224.1, 223.14, 223.26, 225.6, 228.26, 216.38, 225.35, 226.11, 226.93, 226.88, 226.75, 226.98, 227.91, 227.28, 227.51, 227.16, 227.81, 228.08, 228.42, 228.69, 228.7, 228.56, 229.2, 229.86, 229.21, 229.58, 201.58, 230.68, 230.59, 196.91, 230.78, 219.38, 231.76, 231.69, 231.61, 231.56, 231.5, 232.89, 232.81, 231.95, 231.71, 232.12, 233.94, 233.52, 233.29, 233.71, 233.3, 234.82, 233.59, 234.35, 234.27, 233.47, 235.85, 235.63, 235.54, 235.45, 234.5, 236.14, 236.79, 236.04, 235.06, 237.15, 237.21, 237.75, 237.74, 238.53, 238.78, 238.27, 239.52, 239.28, 239.95, 239.19, 239.21, 240.59, 240.71, 240.81, 240.86, 240.69, 242.3, 242.94, 242.62, 243.5, 243.73, 219.92, 243.59, 219.17, 219.67, 244.3, 243.52, 246.34, 247.69, 247.48, 247.97, 247.87, 248.37, 248.24, 249.29, 250.8, 200.66, 228.05, 200.91, 251.46, 251.99, 253.93, 253.86, 226.84, 216.96, 216.71, 254.95, 234.51, 256.74, 227.68, 189.82, 195.74, 226.38, 216.0, 206.62, 195.43, 207.62, 207.37, 212.92, 208.31, 218.0, 211.83, 211.58, 206.66, 217.79, 228.92, 213.33, 199.78, 212.62, 212.87, 207.95, 215.33, 208.2, 198.32, 193.61, 191.15, 231.72, 227.96, 195.61, 206.49, 191.94, 196.61, 197.11, 197.36, 205.78, 228.5, 208.99, 221.83, 221.08, 206.53, 222.58, 227.04, 207.96, 207.71, 203.36, 231.54, 231.43, 219.7, 232.29, 223.16, 232.64, 217.74, 219.8, 200.73, 200.98, 206.15, 200.14, 202.98, 220.24, 215.07, 198.12, 196.08, 196.58, 221.24, 216.07, 196.81, 209.15, 217.57, 197.06, 210.4, 228.2, 208.69}\n",
      "\n",
      "Feature 'bmi': 110 outliers\n",
      "Values: {51.8, 51.9, 51.7, 49.4, 49.9, 52.3, 52.8, 52.7, 52.5, 52.9, 53.4, 53.9, 53.8, 53.5, 54.8, 54.0, 54.3, 54.1, 55.0, 55.1, 55.9, 56.0, 56.1, 50.4, 50.9, 57.3, 57.7, 57.2, 57.9, 58.1, 59.7, 47.8, 48.9, 48.2, 50.1, 49.8, 51.0, 51.5, 54.6, 54.7, 56.6, 50.2, 55.7, 54.2, 60.2, 60.9, 57.5, 55.2, 64.8, 50.6, 66.8, 63.3, 61.2, 61.6, 64.4, 71.9, 49.3, 50.8, 78.0, 92.0, 97.6, 50.5, 47.9, 47.6, 48.4, 48.5, 49.2, 48.7, 48.8, 49.5, 48.0, 48.3, 48.1, 50.3}\n",
      "\n"
     ]
    }
   ],
   "source": [
    "# Outlier for non-categorical feature\n",
    "idx_to_remove = []\n",
    "\n",
    "for feature in non_categorical_feature_names:\n",
    "    Q1 = df[feature].quantile(0.25)\n",
    "    Q3 = df[feature].quantile(0.75)\n",
    "    IQR = Q3 - Q1\n",
    "\n",
    "    lower_bound = Q1 - 1.5 * IQR\n",
    "    upper_bound = Q3 + 1.5 * IQR\n",
    "\n",
    "    outliers = df[(df[feature] < lower_bound) | (df[feature] > upper_bound)][feature]\n",
    "\n",
    "    print(f\"Feature '{feature}': {len(outliers)} outliers\")\n",
    "    if len(outliers) != 0:\n",
    "        print(f\"Values: {set(outliers.tolist())}\")\n",
    "        idx_to_remove.extend(outliers.index.tolist())\n",
    "    print()"
   ]
  },
  {
   "cell_type": "code",
   "execution_count": 762,
   "metadata": {},
   "outputs": [
    {
     "name": "stdout",
     "output_type": "stream",
     "text": [
      "Number of duplicate data row: 0\n"
     ]
    }
   ],
   "source": [
    "# Duplicate data row\n",
    "duplicate = df[df.duplicated()]\n",
    "print(f\"Number of duplicate data row: {len(duplicate)}\")"
   ]
  },
  {
   "cell_type": "code",
   "execution_count": 763,
   "metadata": {},
   "outputs": [
    {
     "name": "stdout",
     "output_type": "stream",
     "text": [
      "Feature 'gender': 1 uncommmon values\n",
      "Values: ['Other']\n",
      "\n",
      "Feature 'hypertension': 0 uncommmon values\n",
      "\n",
      "Feature 'heart_disease': 0 uncommmon values\n",
      "\n",
      "Feature 'ever_married': 0 uncommmon values\n",
      "\n",
      "Feature 'work_type': 1 uncommmon values\n",
      "Values: ['Never_worked']\n",
      "\n",
      "Feature 'Residence_type': 0 uncommmon values\n",
      "\n",
      "Feature 'smoking_status': 0 uncommmon values\n",
      "\n",
      "Feature 'stroke': 0 uncommmon values\n",
      "\n"
     ]
    }
   ],
   "source": [
    "# Uncommon value of each categorical feature\n",
    "threshold = 0.01\n",
    "\n",
    "for feature in categorical_feature_names:\n",
    "    if feature != 'id' :\n",
    "        value_counts = df[feature].value_counts(normalize=True)\n",
    "        uncommon_values = value_counts[value_counts < threshold].index.tolist()\n",
    "\n",
    "        uncommon_values_column = df[df[feature].isin(uncommon_values)][feature]\n",
    "\n",
    "        print(f\"Feature '{feature}': {len(uncommon_values)} uncommmon values\")\n",
    "        if len(uncommon_values) != 0:\n",
    "            print(f\"Values: {uncommon_values}\")\n",
    "            idx_to_remove.extend(uncommon_values_column.index.tolist())\n",
    "        print()\n",
    "            \n",
    "            "
   ]
  },
  {
   "cell_type": "markdown",
   "metadata": {},
   "source": [
    "### A.4. Korelasi\n",
    "\n",
    "Buatlah heatmap dari dataset. Fitur apa yang paling berkorelasi?"
   ]
  },
  {
   "cell_type": "code",
   "execution_count": 764,
   "metadata": {},
   "outputs": [
    {
     "data": {
      "image/png": "[encoded data removed]",
      "text/plain": [
       "<Figure size 1200x800 with 2 Axes>"
      ]
     },
     "metadata": {},
     "output_type": "display_data"
    }
   ],
   "source": [
    "df_for_heatmap = df.copy()\n",
    "\n",
    "encoder = LabelEncoder()\n",
    "for feature in categorical_feature_names:\n",
    "    df_for_heatmap[feature] = encoder.fit_transform(df_for_heatmap[feature].astype(str))\n",
    "\n",
    "correlation_matrix = df_for_heatmap.corr()\n",
    "plt.figure(figsize=(12, 8))\n",
    "sns.heatmap(correlation_matrix, annot=True, fmt=\".2f\", cmap=\"coolwarm\")\n",
    "plt.title(\"Correlation Heatmap Between Features\")\n",
    "plt.show()"
   ]
  },
  {
   "cell_type": "markdown",
   "metadata": {},
   "source": [
    "### A.5. Penanganan Data\n",
    "\n",
    "Pada A.1 hingga A.4, kamu telah melakukan pencarian insight pada data. Apabila diperlukan, lakukan analisis mandiri lebih lanjut.\n",
    "\n",
    "Berikutnya, lakukan pemrosesan sebelum dataset dapat digunakan untuk training model. Kamu dapat melakukan berbagai macam pemrosesan, berikut adalah beberapa contohnya.\n",
    "1) Menangani nilai yang hilang: Buang fitur atau ganti nilai yang hilang dengan strategi tertentu.\n",
    "2) Transformasi fitur kategorikal: Ubah menjadi representasi angka seperti penggunaan one-hot encoding atau label encoding\n",
    "3) Scaling: Dapat menggunakan MinMaxScaler, StandardScaler, atau scaler lainnya.\n",
    "4) Membuang fitur yang sekiranya tidak diperlukan.\n",
    "5) Menambah fitur dari fitur yang sudah ada (feature engineering)."
   ]
  },
  {
   "cell_type": "code",
   "execution_count": 765,
   "metadata": {},
   "outputs": [
    {
     "name": "stdout",
     "output_type": "stream",
     "text": [
      "Shape before removing outliers and uncommon values: (5110, 12)\n",
      "Shape after removing outliers and uncommon values: (4378, 12)\n"
     ]
    }
   ],
   "source": [
    "# Remove row with outlier and uncommmon value\n",
    "print(f\"Shape before removing outliers and uncommon values: {df.shape}\")\n",
    "df = df.drop(idx_to_remove)\n",
    "print(f\"Shape after removing outliers and uncommon values: {df.shape}\")"
   ]
  },
  {
   "cell_type": "code",
   "execution_count": 766,
   "metadata": {},
   "outputs": [
    {
     "name": "stdout",
     "output_type": "stream",
     "text": [
      "Shape before removing null values: (4378, 12)\n",
      "Shape after removing null values: (4238, 12)\n"
     ]
    }
   ],
   "source": [
    "# # Change null value into mean (non-categorical feature) or mode (categorical-feature)\n",
    "# for feature in categorical_feature_names:\n",
    "#     if feature != 'id':\n",
    "#         df[feature] = df[feature].fillna(df[feature].mode()[0])\n",
    "\n",
    "# for feature in non_categorical_feature_names:\n",
    "#     df[feature] = df[feature].fillna(df[feature].mean())\n",
    "\n",
    "# print(\"Missing value for each feature:\")\n",
    "# print(df.isnull().sum().sort_values(ascending=False))\n",
    "\n",
    "# Remove row with null value\n",
    "print(f\"Shape before removing null values: {df.shape}\")\n",
    "df = df.dropna()\n",
    "print(f\"Shape after removing null values: {df.shape}\")"
   ]
  },
  {
   "cell_type": "code",
   "execution_count": 767,
   "metadata": {},
   "outputs": [
    {
     "name": "stdout",
     "output_type": "stream",
     "text": [
      "Shape before removing duplicate rows: (4238, 12)\n",
      "Shape after removing duplicate rows: (4238, 12)\n"
     ]
    }
   ],
   "source": [
    "# Remove duplicate rows\n",
    "print(f\"Shape before removing duplicate rows: {df.shape}\")\n",
    "df = df.drop_duplicates()\n",
    "print(f\"Shape after removing duplicate rows: {df.shape}\")"
   ]
  },
  {
   "cell_type": "code",
   "execution_count": 768,
   "metadata": {},
   "outputs": [],
   "source": [
    "# Scale non-categorical features\n",
    "scaler = MinMaxScaler()\n",
    "\n",
    "for feature in non_categorical_feature_names:\n",
    "    df[feature] = scaler.fit_transform(df[[feature]])"
   ]
  },
  {
   "cell_type": "code",
   "execution_count": 769,
   "metadata": {},
   "outputs": [],
   "source": [
    "# Encode categorical features\n",
    "label_encoder = LabelEncoder()\n",
    "\n",
    "for feature in categorical_feature_names:\n",
    "    df[feature] = label_encoder.fit_transform(df[feature])\n",
    "\n",
    "# df['smoking_status'] = label_encoder.fit_transform(df['smoking_status'])\n",
    "\n",
    "# work_type_one_hot_encoded = pd.get_dummies(df['work_type'], prefix='work_type')\n",
    "# df = pd.concat([df, work_type_one_hot_encoded], axis=1)\n",
    "# df.drop('work_type', axis=1, inplace=True)\n",
    "# df.replace({True: 1, False: 0}, inplace=True)\n"
   ]
  },
  {
   "cell_type": "code",
   "execution_count": 770,
   "metadata": {},
   "outputs": [],
   "source": [
    "df.drop('id', axis=1, inplace=True)"
   ]
  },
  {
   "cell_type": "code",
   "execution_count": 771,
   "metadata": {},
   "outputs": [
    {
     "data": {
      "text/html": [
       "<div>\n",
       "<style scoped>\n",
       "    .dataframe tbody tr th:only-of-type {\n",
       "        vertical-align: middle;\n",
       "    }\n",
       "\n",
       "    .dataframe tbody tr th {\n",
       "        vertical-align: top;\n",
       "    }\n",
       "\n",
       "    .dataframe thead th {\n",
       "        text-align: right;\n",
       "    }\n",
       "</style>\n",
       "<table border=\"1\" class=\"dataframe\">\n",
       "  <thead>\n",
       "    <tr style=\"text-align: right;\">\n",
       "      <th></th>\n",
       "      <th>gender</th>\n",
       "      <th>age</th>\n",
       "      <th>hypertension</th>\n",
       "      <th>heart_disease</th>\n",
       "      <th>ever_married</th>\n",
       "      <th>work_type</th>\n",
       "      <th>Residence_type</th>\n",
       "      <th>avg_glucose_level</th>\n",
       "      <th>bmi</th>\n",
       "      <th>smoking_status</th>\n",
       "      <th>stroke</th>\n",
       "    </tr>\n",
       "  </thead>\n",
       "  <tbody>\n",
       "    <tr>\n",
       "      <th>2</th>\n",
       "      <td>1</td>\n",
       "      <td>0.975586</td>\n",
       "      <td>0</td>\n",
       "      <td>1</td>\n",
       "      <td>1</td>\n",
       "      <td>1</td>\n",
       "      <td>0</td>\n",
       "      <td>0.447341</td>\n",
       "      <td>0.596774</td>\n",
       "      <td>2</td>\n",
       "      <td>1</td>\n",
       "    </tr>\n",
       "    <tr>\n",
       "      <th>6</th>\n",
       "      <td>1</td>\n",
       "      <td>0.902344</td>\n",
       "      <td>1</td>\n",
       "      <td>1</td>\n",
       "      <td>1</td>\n",
       "      <td>1</td>\n",
       "      <td>0</td>\n",
       "      <td>0.131825</td>\n",
       "      <td>0.459677</td>\n",
       "      <td>2</td>\n",
       "      <td>1</td>\n",
       "    </tr>\n",
       "    <tr>\n",
       "      <th>7</th>\n",
       "      <td>0</td>\n",
       "      <td>0.841309</td>\n",
       "      <td>0</td>\n",
       "      <td>0</td>\n",
       "      <td>0</td>\n",
       "      <td>1</td>\n",
       "      <td>1</td>\n",
       "      <td>0.345808</td>\n",
       "      <td>0.336022</td>\n",
       "      <td>2</td>\n",
       "      <td>1</td>\n",
       "    </tr>\n",
       "    <tr>\n",
       "      <th>9</th>\n",
       "      <td>0</td>\n",
       "      <td>0.951172</td>\n",
       "      <td>0</td>\n",
       "      <td>0</td>\n",
       "      <td>1</td>\n",
       "      <td>1</td>\n",
       "      <td>1</td>\n",
       "      <td>0.030380</td>\n",
       "      <td>0.373656</td>\n",
       "      <td>0</td>\n",
       "      <td>1</td>\n",
       "    </tr>\n",
       "    <tr>\n",
       "      <th>10</th>\n",
       "      <td>0</td>\n",
       "      <td>0.987793</td>\n",
       "      <td>1</td>\n",
       "      <td>0</td>\n",
       "      <td>1</td>\n",
       "      <td>1</td>\n",
       "      <td>0</td>\n",
       "      <td>0.222878</td>\n",
       "      <td>0.521505</td>\n",
       "      <td>2</td>\n",
       "      <td>1</td>\n",
       "    </tr>\n",
       "    <tr>\n",
       "      <th>...</th>\n",
       "      <td>...</td>\n",
       "      <td>...</td>\n",
       "      <td>...</td>\n",
       "      <td>...</td>\n",
       "      <td>...</td>\n",
       "      <td>...</td>\n",
       "      <td>...</td>\n",
       "      <td>...</td>\n",
       "      <td>...</td>\n",
       "      <td>...</td>\n",
       "      <td>...</td>\n",
       "    </tr>\n",
       "    <tr>\n",
       "      <th>5104</th>\n",
       "      <td>0</td>\n",
       "      <td>0.157715</td>\n",
       "      <td>0</td>\n",
       "      <td>0</td>\n",
       "      <td>0</td>\n",
       "      <td>3</td>\n",
       "      <td>0</td>\n",
       "      <td>0.422332</td>\n",
       "      <td>0.223118</td>\n",
       "      <td>0</td>\n",
       "      <td>0</td>\n",
       "    </tr>\n",
       "    <tr>\n",
       "      <th>5106</th>\n",
       "      <td>0</td>\n",
       "      <td>0.987793</td>\n",
       "      <td>0</td>\n",
       "      <td>0</td>\n",
       "      <td>1</td>\n",
       "      <td>2</td>\n",
       "      <td>1</td>\n",
       "      <td>0.617119</td>\n",
       "      <td>0.798387</td>\n",
       "      <td>2</td>\n",
       "      <td>0</td>\n",
       "    </tr>\n",
       "    <tr>\n",
       "      <th>5107</th>\n",
       "      <td>0</td>\n",
       "      <td>0.426270</td>\n",
       "      <td>0</td>\n",
       "      <td>0</td>\n",
       "      <td>1</td>\n",
       "      <td>2</td>\n",
       "      <td>0</td>\n",
       "      <td>0.245421</td>\n",
       "      <td>0.545699</td>\n",
       "      <td>2</td>\n",
       "      <td>0</td>\n",
       "    </tr>\n",
       "    <tr>\n",
       "      <th>5108</th>\n",
       "      <td>1</td>\n",
       "      <td>0.621582</td>\n",
       "      <td>0</td>\n",
       "      <td>0</td>\n",
       "      <td>1</td>\n",
       "      <td>1</td>\n",
       "      <td>0</td>\n",
       "      <td>0.978954</td>\n",
       "      <td>0.411290</td>\n",
       "      <td>1</td>\n",
       "      <td>0</td>\n",
       "    </tr>\n",
       "    <tr>\n",
       "      <th>5109</th>\n",
       "      <td>0</td>\n",
       "      <td>0.536133</td>\n",
       "      <td>0</td>\n",
       "      <td>0</td>\n",
       "      <td>1</td>\n",
       "      <td>0</td>\n",
       "      <td>1</td>\n",
       "      <td>0.265586</td>\n",
       "      <td>0.427419</td>\n",
       "      <td>0</td>\n",
       "      <td>0</td>\n",
       "    </tr>\n",
       "  </tbody>\n",
       "</table>\n",
       "<p>4238 rows × 11 columns</p>\n",
       "</div>"
      ],
      "text/plain": [
       "      gender       age  hypertension  heart_disease  ever_married  work_type  \\\n",
       "2          1  0.975586             0              1             1          1   \n",
       "6          1  0.902344             1              1             1          1   \n",
       "7          0  0.841309             0              0             0          1   \n",
       "9          0  0.951172             0              0             1          1   \n",
       "10         0  0.987793             1              0             1          1   \n",
       "...      ...       ...           ...            ...           ...        ...   \n",
       "5104       0  0.157715             0              0             0          3   \n",
       "5106       0  0.987793             0              0             1          2   \n",
       "5107       0  0.426270             0              0             1          2   \n",
       "5108       1  0.621582             0              0             1          1   \n",
       "5109       0  0.536133             0              0             1          0   \n",
       "\n",
       "      Residence_type  avg_glucose_level       bmi  smoking_status  stroke  \n",
       "2                  0           0.447341  0.596774               2       1  \n",
       "6                  0           0.131825  0.459677               2       1  \n",
       "7                  1           0.345808  0.336022               2       1  \n",
       "9                  1           0.030380  0.373656               0       1  \n",
       "10                 0           0.222878  0.521505               2       1  \n",
       "...              ...                ...       ...             ...     ...  \n",
       "5104               0           0.422332  0.223118               0       0  \n",
       "5106               1           0.617119  0.798387               2       0  \n",
       "5107               0           0.245421  0.545699               2       0  \n",
       "5108               0           0.978954  0.411290               1       0  \n",
       "5109               1           0.265586  0.427419               0       0  \n",
       "\n",
       "[4238 rows x 11 columns]"
      ]
     },
     "execution_count": 771,
     "metadata": {},
     "output_type": "execute_result"
    }
   ],
   "source": [
    "# Show dataframe after pre-processing data\n",
    "df"
   ]
  },
  {
   "cell_type": "markdown",
   "metadata": {},
   "source": [
    "## B. Design of Experiment\n",
    "Tentukanlah metrik yang akan digunakan pada eksperimen kali ini. Metrik yang dapat lebih dari satu jenis.\n",
    "\n",
    "Metrik utama yang akan digunakan dalam eksperimen adalah F1-score. F1-score adalah hasil rata-rata harmonis dari nilai _precision_ dan _recall_. F1-score mempertimbangkan nilai _precision_ dan _recall_ dan menghasilkan sebuah metrik yang seimbang, sehingga apabila salah satu nilai _precision_ atau _recall_ lebih rendah, salah satu nilai akan menyeimbangkan mettrik lainnya.\n",
    "\n",
    "Nilai F1 yang tinggi melambangkan nilai _precision_ dan _recall_ yang tinggi, dan memberikan hasil yang baik pada permasalahan klasifikasi data yang imbalanced. Akan tetapi, nilai F1 yang rendah sulit memberikan informasi mengenai metrik yang bernilai rendah.\n",
    "\n",
    "Ada beberapa alasan untuk menggunakan F1-score:\n",
    "- F1-score memberikan _measure_ yang lebih baik untuk persoalan dataset yang tidak seimbang. Dalam kasus dataset ini, _instance_ dengan nilai positif lebih banyak dibandingkan _instance_ dengan nilai negatif, sehingga akurasi dapat menjadi metrik yang tidak tepat, sehingga lebih baik menggunakan F1-score yang mempertimbangkan nilai _precision_ dan _recall_\n",
    "- F1-score sudah menggambarkan kemampuan model untuk memprediksi dan mengidentifikasi kelas data positif dan negatif dalam klasifikasi biner\n",
    "- Pada eksperimen ini, akan dilakukan beberapa perbandingan model (_Logistic Regression_, _XGBoost_, hasil hiperparameter, hasil _oversampling / undersampling_, hasil _voting_), dan nilai F1-score cocok digunakan untuk membandingkan kemampuan antar model.\n",
    "\n",
    "\n",
    "Selain F1, metrik lain yang dapat digunakan adalah akurasi, yang menggambarkan seberapa tepat sebuah model dapat melakukan klasifikasi. Nilai akurasi dapat digunakan untuk membandingkan ketepatan klasifikasi dua buah model apabila nilai F1-nya sama."
   ]
  },
  {
   "cell_type": "markdown",
   "metadata": {},
   "source": [
    "### B.1. Dataset Split\n",
    "\n",
    "Lakukan pemisahan antara data training (80%) dan data validasi (20%). Kolom `stroke` adalah target pada dataset ini."
   ]
  },
  {
   "cell_type": "code",
   "execution_count": 772,
   "metadata": {},
   "outputs": [],
   "source": [
    "# Split into features and target\n",
    "X = df.drop('stroke', axis=1)\n",
    "y = df['stroke'].copy()\n",
    "\n",
    "# Split into trainng and validation data\n",
    "X_train, X_val, y_train, y_val = train_test_split(X, y, test_size=0.2, random_state=42)"
   ]
  },
  {
   "cell_type": "code",
   "execution_count": 773,
   "metadata": {},
   "outputs": [
    {
     "name": "stdout",
     "output_type": "stream",
     "text": [
      "Training data: 3390 rows\n",
      "Validation data: 848 rows\n"
     ]
    }
   ],
   "source": [
    "# Print data size\n",
    "print(f\"Training data: {y_train.shape[0]} rows\")\n",
    "print(f\"Validation data: {y_val.shape[0]} rows\")"
   ]
  },
  {
   "cell_type": "markdown",
   "metadata": {},
   "source": [
    "### B.2. Baseline Training\n",
    "\n",
    "Lakukan training dengan menggunakan `LogisticRegression`. Evaluasi hasilnya dengan confusion matrix dan deskripsikan dengan singkat hal yang terjadi pada model tersebut."
   ]
  },
  {
   "cell_type": "code",
   "execution_count": 774,
   "metadata": {},
   "outputs": [
    {
     "name": "stdout",
     "output_type": "stream",
     "text": [
      "Classification Report:\n",
      "              precision    recall  f1-score   support\n",
      "\n",
      "           0       0.96      1.00      0.98       814\n",
      "           1       0.00      0.00      0.00        34\n",
      "\n",
      "    accuracy                           0.96       848\n",
      "   macro avg       0.48      0.50      0.49       848\n",
      "weighted avg       0.92      0.96      0.94       848\n",
      "\n",
      "F1 Score: 0.0\n",
      "Accuracy Score: 0.9599056603773585\n",
      "Confusion Matrix:\n",
      "[[814   0]\n",
      " [ 34   0]]\n"
     ]
    },
    {
     "name": "stderr",
     "output_type": "stream",
     "text": [
      "c:\\Users\\user\\AppData\\Local\\Programs\\Python\\Python311\\Lib\\site-packages\\sklearn\\metrics\\_classification.py:1471: UndefinedMetricWarning: Precision and F-score are ill-defined and being set to 0.0 in labels with no predicted samples. Use `zero_division` parameter to control this behavior.\n",
      "  _warn_prf(average, modifier, msg_start, len(result))\n",
      "c:\\Users\\user\\AppData\\Local\\Programs\\Python\\Python311\\Lib\\site-packages\\sklearn\\metrics\\_classification.py:1471: UndefinedMetricWarning: Precision and F-score are ill-defined and being set to 0.0 in labels with no predicted samples. Use `zero_division` parameter to control this behavior.\n",
      "  _warn_prf(average, modifier, msg_start, len(result))\n",
      "c:\\Users\\user\\AppData\\Local\\Programs\\Python\\Python311\\Lib\\site-packages\\sklearn\\metrics\\_classification.py:1471: UndefinedMetricWarning: Precision and F-score are ill-defined and being set to 0.0 in labels with no predicted samples. Use `zero_division` parameter to control this behavior.\n",
      "  _warn_prf(average, modifier, msg_start, len(result))\n"
     ]
    }
   ],
   "source": [
    "# Logistic Regression model training\n",
    "logreg = LogisticRegression(max_iter=1000, random_state=42)\n",
    "logreg.fit(X_train, y_train)\n",
    "\n",
    "# Prediction and evaluation\n",
    "y_pred = logreg.predict(X_val)\n",
    "\n",
    "print(\"Classification Report:\")\n",
    "print(classification_report(y_val, y_pred))\n",
    "print(f\"F1 Score: {f1_score(y_val, y_pred)}\")\n",
    "print(f\"Accuracy Score: {accuracy_score(y_val, y_pred)}\")\n",
    "print(f\"Confusion Matrix:\\n{confusion_matrix(y_val, y_pred)}\")"
   ]
  },
  {
   "cell_type": "markdown",
   "metadata": {},
   "source": [
    "### B.3. Hyperparameter Tuning\n",
    "\n",
    "Lakukan pengaturan hyperparameter pada model Logistic Regression dan training kembali. Apakah hasilnya berubah?"
   ]
  },
  {
   "cell_type": "code",
   "execution_count": 775,
   "metadata": {},
   "outputs": [
    {
     "name": "stdout",
     "output_type": "stream",
     "text": [
      "Best Parameters: {'C': 0.001, 'penalty': 'l1', 'solver': 'liblinear'}\n",
      "Best Score: 0.9699115044247788\n",
      "\n",
      "Classification Report:\n",
      "              precision    recall  f1-score   support\n",
      "\n",
      "           0       0.96      1.00      0.98       814\n",
      "           1       0.00      0.00      0.00        34\n",
      "\n",
      "    accuracy                           0.96       848\n",
      "   macro avg       0.48      0.50      0.49       848\n",
      "weighted avg       0.92      0.96      0.94       848\n",
      "\n",
      "F1 Score: 0.0\n",
      "Accuracy Score: 0.9599056603773585\n",
      "Confusion Matrix:\n",
      "[[814   0]\n",
      " [ 34   0]]\n"
     ]
    },
    {
     "name": "stderr",
     "output_type": "stream",
     "text": [
      "c:\\Users\\user\\AppData\\Local\\Programs\\Python\\Python311\\Lib\\site-packages\\sklearn\\metrics\\_classification.py:1471: UndefinedMetricWarning: Precision and F-score are ill-defined and being set to 0.0 in labels with no predicted samples. Use `zero_division` parameter to control this behavior.\n",
      "  _warn_prf(average, modifier, msg_start, len(result))\n",
      "c:\\Users\\user\\AppData\\Local\\Programs\\Python\\Python311\\Lib\\site-packages\\sklearn\\metrics\\_classification.py:1471: UndefinedMetricWarning: Precision and F-score are ill-defined and being set to 0.0 in labels with no predicted samples. Use `zero_division` parameter to control this behavior.\n",
      "  _warn_prf(average, modifier, msg_start, len(result))\n",
      "c:\\Users\\user\\AppData\\Local\\Programs\\Python\\Python311\\Lib\\site-packages\\sklearn\\metrics\\_classification.py:1471: UndefinedMetricWarning: Precision and F-score are ill-defined and being set to 0.0 in labels with no predicted samples. Use `zero_division` parameter to control this behavior.\n",
      "  _warn_prf(average, modifier, msg_start, len(result))\n"
     ]
    }
   ],
   "source": [
    "# Parameter Grid Space\n",
    "param_grid = {\n",
    "    'C': [0.001, 0.01, 0.1, 1, 10, 100],\n",
    "    'penalty': ['l1', 'l2'],\n",
    "    'solver': ['liblinear', 'saga']\n",
    "}\n",
    "\n",
    "# Grid search for hyperparameter tuning\n",
    "grid_search = GridSearchCV(LogisticRegression(), param_grid, cv=5)\n",
    "grid_search.fit(X_train, y_train)\n",
    "\n",
    "# Get best parameters and score\n",
    "best_params = grid_search.best_params_\n",
    "best_score = grid_search.best_score_\n",
    "\n",
    "print(\"Best Parameters:\", best_params)\n",
    "print(\"Best Score:\", best_score)\n",
    "\n",
    "# Get best model and evaluate\n",
    "tuned_logreg = grid_search.best_estimator_\n",
    "y_pred = tuned_logreg.predict(X_val)\n",
    "print(\"\\nClassification Report:\")\n",
    "print(classification_report(y_val, y_pred))\n",
    "print(f\"F1 Score: {f1_score(y_val, y_pred)}\")\n",
    "print(f\"Accuracy Score: {accuracy_score(y_val, y_pred)}\")\n",
    "print(f\"Confusion Matrix:\\n{confusion_matrix(y_val, y_pred)}\")\n"
   ]
  },
  {
   "cell_type": "markdown",
   "metadata": {},
   "source": [
    "### B.4. Training Model Lain\n",
    "\n",
    "Kamu dapat melakukan training dengan model-model lain seperti Random Forest, Decision Tree, dan KNN serta atur hyperparameter-nya. Bandingkan hasilnya dengan baseline Logistic Regression.\n",
    "\n",
    "[Referensi](https://scikit-learn.org/stable/supervised_learning.html)"
   ]
  },
  {
   "cell_type": "code",
   "execution_count": 776,
   "metadata": {},
   "outputs": [],
   "source": [
    "# from sklearn.ensemble import RandomForestClassifier\n",
    "# from sklearn.tree import DecisionTreeClassifier\n",
    "# from sklearn.neighbors import KNeighborsClassifier\n",
    "\n",
    "# # Train beberapa model lain\n",
    "# models = {\n",
    "#     'Random Forest': RandomForestClassifier(random_state=42),\n",
    "#     'Decision Tree': DecisionTreeClassifier(random_state=42),\n",
    "#     'KNN': KNeighborsClassifier()\n",
    "# }\n",
    "\n",
    "# # Evaluasi setiap model\n",
    "# for name, model in models.items():\n",
    "#     model.fit(X_train, y_train)\n",
    "#     y_pred = model.predict(X_val)\n",
    "#     print(f\"\\n{name} - Classification Report:\")\n",
    "#     print(classification_report(y_val, y_pred))\n"
   ]
  },
  {
   "cell_type": "markdown",
   "metadata": {},
   "source": [
    "## C. Improvement\n",
    "\n",
    "Dataset imbalance merupakan kasus yang umum terjadi saat pembuatan model machine learning. Kasus ini dapat diatasi dengan melakukan oversampling pada target minoritas ataupun undersampling pada dataset mayoritas.\n",
    "\n",
    "[Referensi](https://machinelearningmastery.com/smote-oversampling-for-imbalanced-classification/)"
   ]
  },
  {
   "cell_type": "markdown",
   "metadata": {},
   "source": [
    "### C.1. Oversampling\n",
    "\n",
    "Lakukan strategi oversampling pada dataset mayoritas. Training kembali model baseline dan lakukan evaluasi dengan confusion matrix."
   ]
  },
  {
   "cell_type": "code",
   "execution_count": 777,
   "metadata": {},
   "outputs": [
    {
     "name": "stdout",
     "output_type": "stream",
     "text": [
      "Jumlah sampel: 6576\n",
      "\n",
      "Classification Report:\n",
      "              precision    recall  f1-score   support\n",
      "\n",
      "           0       0.98      0.74      0.84       814\n",
      "           1       0.10      0.71      0.18        34\n",
      "\n",
      "    accuracy                           0.74       848\n",
      "   macro avg       0.54      0.72      0.51       848\n",
      "weighted avg       0.95      0.74      0.82       848\n",
      "\n",
      "F1 Score: 0.17712177121771217\n",
      "Accuracy Score: 0.7370283018867925\n",
      "Confusion Matrix:\n",
      "[[601 213]\n",
      " [ 10  24]]\n"
     ]
    }
   ],
   "source": [
    "# Oversampling\n",
    "oversampler = RandomOverSampler(sampling_strategy=\"minority\", random_state=42)\n",
    "oversampler_X_train, oversampler_y_train = oversampler.fit_resample(X_train, y_train)\n",
    "print(f\"Jumlah sampel: {len(oversampler_X_train)}\")\n",
    "\n",
    "# Train model with oversampled data\n",
    "oversampler_logreg = LogisticRegression(max_iter=1000, random_state=42)\n",
    "oversampler_logreg.fit(oversampler_X_train, oversampler_y_train)\n",
    "\n",
    "# Evaluasi model \n",
    "oversampler_y_pred = oversampler_logreg.predict(X_val)\n",
    "print(\"\\nClassification Report:\")\n",
    "print(classification_report(y_val, oversampler_y_pred))\n",
    "print(f\"F1 Score: {f1_score(y_val, oversampler_y_pred)}\")\n",
    "print(f\"Accuracy Score: {accuracy_score(y_val, oversampler_y_pred)}\")\n",
    "print(f\"Confusion Matrix:\\n{confusion_matrix(y_val, oversampler_y_pred)}\")"
   ]
  },
  {
   "cell_type": "markdown",
   "metadata": {},
   "source": [
    "### C.2. Undersampling\n",
    "Lakukan strategi undersampling pada dataset minoritas. Training kembali model dan lakukan evaluasi dengan confusion matrix."
   ]
  },
  {
   "cell_type": "code",
   "execution_count": 778,
   "metadata": {},
   "outputs": [
    {
     "ename": "NameError",
     "evalue": "name 'Y_train' is not defined",
     "output_type": "error",
     "traceback": [
      "\u001b[1;31m---------------------------------------------------------------------------\u001b[0m",
      "\u001b[1;31mNameError\u001b[0m                                 Traceback (most recent call last)",
      "Cell \u001b[1;32mIn[778], line 5\u001b[0m\n\u001b[0;32m      3\u001b[0m \u001b[38;5;66;03m# Implementasi Undersampling\u001b[39;00m\n\u001b[0;32m      4\u001b[0m undersampler \u001b[38;5;241m=\u001b[39m RandomUnderSampler()\n\u001b[1;32m----> 5\u001b[0m X_resampled_under, Y_resampled_under \u001b[38;5;241m=\u001b[39m undersampler\u001b[38;5;241m.\u001b[39mfit_resample(X_train, \u001b[43mY_train\u001b[49m)\n\u001b[0;32m      7\u001b[0m \u001b[38;5;66;03m# Training model Logistic Regression pada data yang sudah di undersample\u001b[39;00m\n\u001b[0;32m      8\u001b[0m model_under \u001b[38;5;241m=\u001b[39m LogisticRegression()\n",
      "\u001b[1;31mNameError\u001b[0m: name 'Y_train' is not defined"
     ]
    }
   ],
   "source": [
    "from imblearn.under_sampling import RandomUnderSampler\n",
    "\n",
    "# Implementasi Undersampling\n",
    "undersampler = RandomUnderSampler()\n",
    "X_resampled_under, Y_resampled_under = undersampler.fit_resample(X_train, Y_train)\n",
    "\n",
    "# Training model Logistic Regression pada data yang sudah di undersample\n",
    "model_under = LogisticRegression()\n",
    "model_under.fit(X_resampled_under, Y_resampled_under)\n",
    "\n",
    "# Evaluasi model\n",
    "Y_pred_under = model_under.predict(X_val)\n",
    "print(\"Confusion Matrix after Undersampling:\")\n",
    "print(confusion_matrix(Y_val, Y_pred_under))\n",
    "print(\"\\nClassification Report after Undersampling:\")\n",
    "print(classification_report(Y_val, Y_pred_under))"
   ]
  },
  {
   "cell_type": "markdown",
   "metadata": {},
   "source": [
    "### C.3. Model Ensembling\n",
    "\n",
    "Sebagai tambahan dari strategi oversampling dan undersampling, kinerja prediksi dapat ditingkatkan dengan membuat beberapa model berbeda menjadi satu model utuh. Contohnya adalah penggabungan Logistic Regression dan Random Forest.\n",
    "\n",
    "Dari scikit-learn, terdapat dua jenis ensembling paling umum yaitu Voting Classifier dan Stacking Classifier. Gunakan kedua strategi ini pada jenis-jenis model yang berbeda, lakukan training pada oversampled atau undersampled data dan bandingkan hasilnya dengan baseline Logistic Regression.\n",
    "\n",
    "[Referensi](https://scikit-learn.org/stable/modules/classes.html#module-sklearn.ensemble)"
   ]
  },
  {
   "cell_type": "code",
   "execution_count": null,
   "metadata": {},
   "outputs": [
    {
     "name": "stdout",
     "output_type": "stream",
     "text": [
      "Confussion Matrix for Voting Classifier\n",
      "[[804  36]\n",
      " [ 33   3]]\n",
      "\n",
      "Classification Report for Voting Classifier\n",
      "              precision    recall  f1-score   support\n",
      "\n",
      "           0       0.96      0.96      0.96       840\n",
      "           1       0.08      0.08      0.08        36\n",
      "\n",
      "    accuracy                           0.92       876\n",
      "   macro avg       0.52      0.52      0.52       876\n",
      "weighted avg       0.92      0.92      0.92       876\n",
      "\n",
      "Confussion Matrix for Stacking Classifier\n",
      "[[807  33]\n",
      " [ 32   4]]\n",
      "\n",
      "Confussion Matrix for Stacking Classifier\n",
      "              precision    recall  f1-score   support\n",
      "\n",
      "           0       0.96      0.96      0.96       840\n",
      "           1       0.11      0.11      0.11        36\n",
      "\n",
      "    accuracy                           0.93       876\n",
      "   macro avg       0.53      0.54      0.54       876\n",
      "weighted avg       0.93      0.93      0.93       876\n",
      "\n"
     ]
    }
   ],
   "source": [
    "from sklearn.ensemble import RandomForestClassifier, VotingClassifier, StackingClassifier\n",
    "\n",
    "# Voting Classifier\n",
    "voting_clf = VotingClassifier(estimators=[\n",
    "    ('lr', LogisticRegression()),\n",
    "    ('rf', RandomForestClassifier())\n",
    "], voting='soft')\n",
    "voting_clf.fit(X_resampled, Y_resampled)\n",
    "\n",
    "# Evaluasi Voting Classfier\n",
    "Y_pred_voting = voting_clf.predict(X_val)\n",
    "print(\"Confusion Matrix for Voting Classifier\")\n",
    "print(confusion_matrix(Y_val, Y_pred_voting))\n",
    "print(\"\\nClassification Report for Voting Classifier\")\n",
    "print(classification_report(Y_val, Y_pred_voting))\n",
    "\n",
    "# Stacking Classifier\n",
    "stacking_clf = StackingClassifier(estimators=[\n",
    "    ('lr', LogisticRegression()),\n",
    "    ('rf', RandomForestClassifier())\n",
    "], final_estimator=LogisticRegression())\n",
    "stacking_clf.fit(X_resampled, Y_resampled) # Training pada data oversampled\n",
    "\n",
    "# Evaluasi Stacking Classifier\n",
    "Y_pred_stacking = stacking_clf.predict(X_val)\n",
    "print(\"Confusion Matrix for Stacking Classifier\")\n",
    "print(confusion_matrix(Y_val, Y_pred_stacking))\n",
    "print(\"\\nConfusion Matrix for Stacking Classifier\")\n",
    "print(classification_report(Y_val, Y_pred_stacking))\n",
    "\n",
    "\n"
   ]
  },
  {
   "cell_type": "markdown",
   "metadata": {},
   "source": [
    "## D. Model Final\n",
    "Tentukan model yang memiliki kinerja terbaik serta berikan alasannya."
   ]
  },
  {
   "cell_type": "code",
   "execution_count": null,
   "metadata": {},
   "outputs": [
    {
     "name": "stdout",
     "output_type": "stream",
     "text": [
      "F1-Scores of Different Models\n",
      "Baseline: 0.0000\n",
      "SMOTE: 0.0000\n",
      "Undersampling: 0.0000\n",
      "Voting Classifier: 0.0800\n",
      "Stacking Classifier: 0.1096\n",
      "\n",
      "Model with the best F1-score: Stacking Classifier (0.1096)\n",
      "\n",
      "Alasan pemilihan model\n",
      "Model 'Stacking Classifier' dipilih sebagai model terbaik karena memiliki F1-score tertinggi di antara semua model yang diuji.\n",
      "Ini menunjukkan bahwa model ini memiliki keseimbangan terbaik antara precision dan recall, yang sangat penting dalam menangani dataset yang tidak seimbang.\n"
     ]
    }
   ],
   "source": [
    "from sklearn.metrics import f1_score\n",
    "\n",
    "# Evaluasi F1-score dari semua model\n",
    "f1_score = {\n",
    "    'Baseline': f1_score(Y_val, logreg.predict(X_val)),\n",
    "    'SMOTE': f1_score(Y_val, model_smote.predict(X_val)),\n",
    "    'Undersampling': f1_score(Y_val, model_under.predict(X_val)),\n",
    "    'Voting Classifier': f1_score(Y_val, voting_clf.predict(X_val)),\n",
    "    'Stacking Classifier': f1_score(Y_val, stacking_clf.predict(X_val))\n",
    "}\n",
    "\n",
    "# Cetak F1-score dari semua model\n",
    "print(\"F1-Scores of Different Models\")\n",
    "for model_name, f1 in f1_score.items():\n",
    "    print(f\"{model_name}: {f1:.4f}\")\n",
    "\n",
    "# Menentukan model dengan F1-score tertinggi\n",
    "best_model_name = max(f1_score, key=f1_score.get)\n",
    "best_f1_score = f1_score[best_model_name]\n",
    "print(f\"\\nModel with the best F1-score: {best_model_name} ({best_f1_score:.4f})\")\n",
    "\n",
    "# Alasan pemilihan \n",
    "print(\"\\nAlasan pemilihan model\")\n",
    "print(f\"Model '{best_model_name}' dipilih sebagai model terbaik karena memiliki F1-score tertinggi di antara semua model yang diuji.\")\n",
    "print(\"Ini menunjukkan bahwa model ini memiliki keseimbangan terbaik antara precision dan recall, yang sangat penting dalam menangani dataset yang tidak seimbang.\")"
   ]
  }
 ],
 "metadata": {
  "kernelspec": {
   "display_name": "Python 3 (ipykernel)",
   "language": "python",
   "name": "python3"
  },
  "language_info": {
   "codemirror_mode": {
    "name": "ipython",
    "version": 3
   },
   "file_extension": ".py",
   "mimetype": "text/x-python",
   "name": "python",
   "nbconvert_exporter": "python",
   "pygments_lexer": "ipython3",
   "version": "3.11.6"
  }
 },
 "nbformat": 4,
 "nbformat_minor": 2
}
